{
 "cells": [
  {
   "cell_type": "code",
   "execution_count": 1,
   "id": "initial_id",
   "metadata": {
    "collapsed": true,
    "ExecuteTime": {
     "end_time": "2024-04-08T15:55:26.036795Z",
     "start_time": "2024-04-08T15:55:24.898055Z"
    }
   },
   "outputs": [],
   "source": [
    "import pandas as pd\n",
    "import utils.TmdbHelper as Th"
   ]
  },
  {
   "cell_type": "code",
   "outputs": [],
   "source": [
    "movie_df = pd.read_csv('../data/movies.csv', parse_dates=['release_date'])"
   ],
   "metadata": {
    "collapsed": false,
    "ExecuteTime": {
     "end_time": "2024-04-08T19:00:37.688240Z",
     "start_time": "2024-04-08T19:00:37.665721Z"
    }
   },
   "id": "43d4b951dccbd6a6",
   "execution_count": 32
  },
  {
   "cell_type": "code",
   "outputs": [
    {
     "data": {
      "text/plain": "   adult       id original_language                   original_title  \\\n0  False   823464           English  Godzilla x Kong: The New Empire   \n1  False  1011985           English                  Kung Fu Panda 4   \n2  False   634492           English                       Madame Web   \n3  False   856289           Chinese                       封神第一部：朝歌风云   \n4  False   940551           English                        Migration   \n\n   popularity release_date                                      title  \\\n0    3404.570   2024-03-27            Godzilla x Kong: The New Empire   \n1    2101.694   2024-03-02                            Kung Fu Panda 4   \n2    1146.356   2024-02-14                                 Madame Web   \n3     887.604   2023-07-20  Creation of the Gods I: Kingdom of Storms   \n4     875.175   2023-12-06                                  Migration   \n\n   vote_average  vote_count  \\\n0         6.800         422   \n1         6.773         598   \n2         5.659         971   \n3         6.845         177   \n4         7.500        1077   \n\n                                production_companies  \\\n0    ['Legendary Pictures', 'Warner Bros. Pictures']   \n1                           ['DreamWorks Animation']   \n2   ['Columbia Pictures', 'di Bonaventura Pictures']   \n3  ['Beijing Culture', 'Century Changshengtian Fi...   \n4                                   ['Illumination']   \n\n           production_countries  \\\n0  ['United States of America']   \n1  ['United States of America']   \n2  ['United States of America']   \n3                     ['China']   \n4  ['United States of America']   \n\n                                               genre  revenue(mil)  \\\n0         ['Action', 'Adventure', 'Science Fiction']         214.0   \n1  ['Action', 'Adventure', 'Animation', 'Comedy',...         347.0   \n2                              ['Action', 'Fantasy']          99.0   \n3                       ['Action', 'Fantasy', 'War']         372.0   \n4  ['Action', 'Adventure', 'Animation', 'Comedy',...         292.0   \n\n   budget(mil)  month  runtime(min)  year  \n0        135.0      3         115.0  2024  \n1         85.0      3          94.0  2024  \n2         80.0      2         116.0  2024  \n3         85.0      7         148.0  2023  \n4         72.0     12          83.0  2023  ",
      "text/html": "<div>\n<style scoped>\n    .dataframe tbody tr th:only-of-type {\n        vertical-align: middle;\n    }\n\n    .dataframe tbody tr th {\n        vertical-align: top;\n    }\n\n    .dataframe thead th {\n        text-align: right;\n    }\n</style>\n<table border=\"1\" class=\"dataframe\">\n  <thead>\n    <tr style=\"text-align: right;\">\n      <th></th>\n      <th>adult</th>\n      <th>id</th>\n      <th>original_language</th>\n      <th>original_title</th>\n      <th>popularity</th>\n      <th>release_date</th>\n      <th>title</th>\n      <th>vote_average</th>\n      <th>vote_count</th>\n      <th>production_companies</th>\n      <th>production_countries</th>\n      <th>genre</th>\n      <th>revenue(mil)</th>\n      <th>budget(mil)</th>\n      <th>month</th>\n      <th>runtime(min)</th>\n      <th>year</th>\n    </tr>\n  </thead>\n  <tbody>\n    <tr>\n      <th>0</th>\n      <td>False</td>\n      <td>823464</td>\n      <td>English</td>\n      <td>Godzilla x Kong: The New Empire</td>\n      <td>3404.570</td>\n      <td>2024-03-27</td>\n      <td>Godzilla x Kong: The New Empire</td>\n      <td>6.800</td>\n      <td>422</td>\n      <td>['Legendary Pictures', 'Warner Bros. Pictures']</td>\n      <td>['United States of America']</td>\n      <td>['Action', 'Adventure', 'Science Fiction']</td>\n      <td>214.0</td>\n      <td>135.0</td>\n      <td>3</td>\n      <td>115.0</td>\n      <td>2024</td>\n    </tr>\n    <tr>\n      <th>1</th>\n      <td>False</td>\n      <td>1011985</td>\n      <td>English</td>\n      <td>Kung Fu Panda 4</td>\n      <td>2101.694</td>\n      <td>2024-03-02</td>\n      <td>Kung Fu Panda 4</td>\n      <td>6.773</td>\n      <td>598</td>\n      <td>['DreamWorks Animation']</td>\n      <td>['United States of America']</td>\n      <td>['Action', 'Adventure', 'Animation', 'Comedy',...</td>\n      <td>347.0</td>\n      <td>85.0</td>\n      <td>3</td>\n      <td>94.0</td>\n      <td>2024</td>\n    </tr>\n    <tr>\n      <th>2</th>\n      <td>False</td>\n      <td>634492</td>\n      <td>English</td>\n      <td>Madame Web</td>\n      <td>1146.356</td>\n      <td>2024-02-14</td>\n      <td>Madame Web</td>\n      <td>5.659</td>\n      <td>971</td>\n      <td>['Columbia Pictures', 'di Bonaventura Pictures']</td>\n      <td>['United States of America']</td>\n      <td>['Action', 'Fantasy']</td>\n      <td>99.0</td>\n      <td>80.0</td>\n      <td>2</td>\n      <td>116.0</td>\n      <td>2024</td>\n    </tr>\n    <tr>\n      <th>3</th>\n      <td>False</td>\n      <td>856289</td>\n      <td>Chinese</td>\n      <td>封神第一部：朝歌风云</td>\n      <td>887.604</td>\n      <td>2023-07-20</td>\n      <td>Creation of the Gods I: Kingdom of Storms</td>\n      <td>6.845</td>\n      <td>177</td>\n      <td>['Beijing Culture', 'Century Changshengtian Fi...</td>\n      <td>['China']</td>\n      <td>['Action', 'Fantasy', 'War']</td>\n      <td>372.0</td>\n      <td>85.0</td>\n      <td>7</td>\n      <td>148.0</td>\n      <td>2023</td>\n    </tr>\n    <tr>\n      <th>4</th>\n      <td>False</td>\n      <td>940551</td>\n      <td>English</td>\n      <td>Migration</td>\n      <td>875.175</td>\n      <td>2023-12-06</td>\n      <td>Migration</td>\n      <td>7.500</td>\n      <td>1077</td>\n      <td>['Illumination']</td>\n      <td>['United States of America']</td>\n      <td>['Action', 'Adventure', 'Animation', 'Comedy',...</td>\n      <td>292.0</td>\n      <td>72.0</td>\n      <td>12</td>\n      <td>83.0</td>\n      <td>2023</td>\n    </tr>\n  </tbody>\n</table>\n</div>"
     },
     "execution_count": 33,
     "metadata": {},
     "output_type": "execute_result"
    }
   ],
   "source": [
    "movie_df.head()"
   ],
   "metadata": {
    "collapsed": false,
    "ExecuteTime": {
     "end_time": "2024-04-08T19:00:38.099467Z",
     "start_time": "2024-04-08T19:00:38.077586Z"
    }
   },
   "id": "4e41378f270037a0",
   "execution_count": 33
  },
  {
   "cell_type": "code",
   "outputs": [
    {
     "name": "stdout",
     "output_type": "stream",
     "text": [
      "<class 'pandas.core.frame.DataFrame'>\n",
      "RangeIndex: 1353 entries, 0 to 1352\n",
      "Data columns (total 17 columns):\n",
      " #   Column                Non-Null Count  Dtype         \n",
      "---  ------                --------------  -----         \n",
      " 0   adult                 1353 non-null   bool          \n",
      " 1   id                    1353 non-null   int64         \n",
      " 2   original_language     1353 non-null   object        \n",
      " 3   original_title        1353 non-null   object        \n",
      " 4   popularity            1353 non-null   float64       \n",
      " 5   release_date          1353 non-null   datetime64[ns]\n",
      " 6   title                 1353 non-null   object        \n",
      " 7   vote_average          1353 non-null   float64       \n",
      " 8   vote_count            1353 non-null   int64         \n",
      " 9   production_companies  1353 non-null   object        \n",
      " 10  production_countries  1353 non-null   object        \n",
      " 11  genre                 1353 non-null   object        \n",
      " 12  revenue(mil)          1353 non-null   float64       \n",
      " 13  budget(mil)           1353 non-null   float64       \n",
      " 14  month                 1353 non-null   int64         \n",
      " 15  runtime(min)          1353 non-null   float64       \n",
      " 16  year                  1353 non-null   int64         \n",
      "dtypes: bool(1), datetime64[ns](1), float64(5), int64(4), object(6)\n",
      "memory usage: 170.6+ KB\n"
     ]
    }
   ],
   "source": [
    "movie_df.info()"
   ],
   "metadata": {
    "collapsed": false,
    "ExecuteTime": {
     "end_time": "2024-04-08T19:00:38.524353Z",
     "start_time": "2024-04-08T19:00:38.510366Z"
    }
   },
   "id": "e1bbcd5312f2b25b",
   "execution_count": 34
  },
  {
   "cell_type": "code",
   "outputs": [],
   "source": [
    "movie_df = movie_df.dropna()"
   ],
   "metadata": {
    "collapsed": false,
    "ExecuteTime": {
     "end_time": "2024-04-08T19:00:38.856203Z",
     "start_time": "2024-04-08T19:00:38.850410Z"
    }
   },
   "id": "ead48053690883ad",
   "execution_count": 35
  },
  {
   "cell_type": "code",
   "outputs": [],
   "source": [
    "from sklearn.model_selection import train_test_split\n",
    "\n",
    "X_cols = movie_df[['budget(mil)','vote_count','vote_average','release_date','adult', 'genre', 'production_companies', 'popularity', 'production_countries','original_language']]\n",
    "y_cols = movie_df['revenue(mil)']\n",
    "X_train, X_test, y_train, y_test = train_test_split(X_cols, y_cols, shuffle=True, test_size=0.2, random_state=42)"
   ],
   "metadata": {
    "collapsed": false,
    "ExecuteTime": {
     "end_time": "2024-04-08T19:00:39.113696Z",
     "start_time": "2024-04-08T19:00:39.103952Z"
    }
   },
   "id": "2b519ab8715704dc",
   "execution_count": 36
  },
  {
   "cell_type": "code",
   "outputs": [
    {
     "name": "stdout",
     "output_type": "stream",
     "text": [
      "(1082, 10) (271, 10) (1082,) (271,)\n"
     ]
    }
   ],
   "source": [
    "print(X_train.shape, X_test.shape, y_train.shape, y_test.shape)"
   ],
   "metadata": {
    "collapsed": false,
    "ExecuteTime": {
     "end_time": "2024-04-08T19:00:39.309719Z",
     "start_time": "2024-04-08T19:00:39.303804Z"
    }
   },
   "id": "d8960b1645baa2d",
   "execution_count": 37
  },
  {
   "cell_type": "code",
   "outputs": [
    {
     "data": {
      "text/plain": "['Action',\n 'Adventure',\n 'Animation',\n 'Comedy',\n 'Crime',\n 'Documentary',\n 'Drama',\n 'Family',\n 'Fantasy',\n 'History',\n 'Horror',\n 'Music',\n 'Mystery',\n 'Romance',\n 'Science Fiction',\n 'TV Movie',\n 'Thriller',\n 'War',\n 'Western']"
     },
     "execution_count": 38,
     "metadata": {},
     "output_type": "execute_result"
    }
   ],
   "source": [
    "genres = []\n",
    "for genre in Th.get_genres():\n",
    "    genres.append(genre['name'])\n",
    "genres"
   ],
   "metadata": {
    "collapsed": false,
    "ExecuteTime": {
     "end_time": "2024-04-08T19:00:39.650551Z",
     "start_time": "2024-04-08T19:00:39.630394Z"
    }
   },
   "id": "5f4c2963084cc4f0",
   "execution_count": 38
  },
  {
   "cell_type": "code",
   "outputs": [],
   "source": [
    "from sklearn.preprocessing import OneHotEncoder\n",
    "from sklearn.base import BaseEstimator, TransformerMixin\n",
    "\n",
    "\n",
    "class DateTransformer(BaseEstimator, TransformerMixin):\n",
    "    def fit(self, X, y=None):\n",
    "        return self\n",
    "    \n",
    "    def transform(self, X):\n",
    "        encoder = OneHotEncoder()\n",
    "        X['year'] = X['release_date'].dt.year\n",
    "        \n",
    "        X['month'] = X['release_date'].dt.strftime('%b')\n",
    "        matrix = encoder.fit_transform(X[['month']]).toarray()\n",
    "        columns_names = ['Jan','Feb','Mar','Apr','May','Jun','Jul','Aug','Sep','Oct','Nov','Dec']\n",
    "        for i in range(len(matrix.T)):\n",
    "            X[columns_names[i]] = matrix.T[i]\n",
    "        \n",
    "        X['day'] = X['release_date'].dt.strftime('%a')\n",
    "        weekend = ['Sat', 'Sun']\n",
    "        X['day'] = X['day'].apply(lambda x: 'Weekend' if x in weekend else 'Weekday')\n",
    "        matrix = encoder.fit_transform(X[['day']]).toarray()\n",
    "        columns_names = ['Weekend', 'Weekday']\n",
    "        for i in range(len(matrix.T)):\n",
    "            X[columns_names[i]] = matrix.T[i]\n",
    "        \n",
    "       \n",
    "        return X"
   ],
   "metadata": {
    "collapsed": false,
    "ExecuteTime": {
     "end_time": "2024-04-08T19:00:39.997997Z",
     "start_time": "2024-04-08T19:00:39.988991Z"
    }
   },
   "id": "63cd6376b570bfb0",
   "execution_count": 39
  },
  {
   "cell_type": "code",
   "outputs": [],
   "source": [
    "class FeatureEncoder(BaseEstimator,TransformerMixin):\n",
    "    def fit(self, X, y=None):\n",
    "        return self\n",
    "    \n",
    "    @staticmethod\n",
    "    def encoder(X, column_name):\n",
    "        X[column_name] =X[column_name].apply(eval)\n",
    "        # unique_values_set = set(np.concatenate(X[column_name].tolist()).flat)\n",
    "        unique_values_list = genres\n",
    "        item_lists = X[column_name]\n",
    "    \n",
    "        bool_dict = {}\n",
    "\n",
    "        for i, item in enumerate(unique_values_list):\n",
    "            bool_dict[item] = item_lists.apply(lambda x: 1 if item in x else 0)\n",
    "        bool_dict = pd.DataFrame(bool_dict)\n",
    "        X = pd.concat([X, pd.DataFrame(bool_dict)], axis=1) \n",
    "        X = X.map(str)\n",
    "    \n",
    "        return X\n",
    "    \n",
    "    def transform(self, X):\n",
    "        X['adult'] = X['adult'].map({True:1,False:0})\n",
    "        encoder = OneHotEncoder()\n",
    "        columns = ['genre']\n",
    "        for column in columns:\n",
    "            X = self.encoder(X, column)\n",
    "        \n",
    "        # matrix = encoder.fit_transform(X[['original_language']]).toarray()\n",
    "        # columns_names = df['original_language'].unique().tolist()\n",
    "        # for i in range(len(matrix.T)):\n",
    "        #     X[columns_names[i]] = matrix.T[i]\n",
    "        \n",
    "        X.columns = X.columns.astype('str')\n",
    "        X= X.rename(str,axis=\"columns\")\n",
    "        return X"
   ],
   "metadata": {
    "collapsed": false,
    "ExecuteTime": {
     "end_time": "2024-04-08T19:00:40.762410Z",
     "start_time": "2024-04-08T19:00:40.752466Z"
    }
   },
   "id": "58a7234e97f5aaab",
   "execution_count": 40
  },
  {
   "cell_type": "code",
   "outputs": [],
   "source": [
    "class FeatureDropper(BaseEstimator,TransformerMixin):\n",
    "    def fit(self, X, y=None):\n",
    "        return self\n",
    "    \n",
    "    def transform(self, X):\n",
    "        return X.drop(columns=['production_companies','production_countries','genre', 'original_language','release_date', 'year', 'month', 'day'])"
   ],
   "metadata": {
    "collapsed": false,
    "ExecuteTime": {
     "end_time": "2024-04-08T19:00:41.143494Z",
     "start_time": "2024-04-08T19:00:41.136721Z"
    }
   },
   "id": "1e8c2b419de73e2f",
   "execution_count": 41
  },
  {
   "cell_type": "code",
   "outputs": [],
   "source": [
    "from sklearn.pipeline import Pipeline\n",
    "\n",
    "ML_pipeline = Pipeline([\n",
    "    ('date_Transformer', DateTransformer()),\n",
    "    ('encoder', FeatureEncoder()),\n",
    "    ('dropper', FeatureDropper())\n",
    "])"
   ],
   "metadata": {
    "collapsed": false,
    "ExecuteTime": {
     "end_time": "2024-04-08T19:00:41.503873Z",
     "start_time": "2024-04-08T19:00:41.498753Z"
    }
   },
   "id": "e6803a8226db2ea1",
   "execution_count": 42
  },
  {
   "cell_type": "code",
   "outputs": [],
   "source": [
    "X_train = ML_pipeline.fit_transform(X_train)"
   ],
   "metadata": {
    "collapsed": false,
    "ExecuteTime": {
     "end_time": "2024-04-08T19:00:42.002492Z",
     "start_time": "2024-04-08T19:00:41.909555Z"
    }
   },
   "id": "c213fc11c985d7eb",
   "execution_count": 43
  },
  {
   "cell_type": "code",
   "outputs": [
    {
     "data": {
      "text/plain": "     budget(mil) vote_count vote_average adult popularity  Jan  Feb  Mar  Apr  \\\n966        110.0       9952        6.682     0     50.412  0.0  0.0  0.0  0.0   \n932          7.0       3337        7.197     0     38.307  0.0  0.0  0.0  0.0   \n109         37.0      13038         6.29     0    135.867  0.0  0.0  0.0  0.0   \n714          8.0        950        6.926     0     45.035  0.0  0.0  0.0  0.0   \n1200        90.0       3429        6.435     0     39.288  0.0  0.0  0.0  1.0   \n\n      May  ... History Horror Music Mystery Romance Science Fiction TV Movie  \\\n966   0.0  ...       0      0     0       0       0               0        0   \n932   0.0  ...       0      0     0       0       0               1        0   \n109   0.0  ...       0      0     0       0       1               0        0   \n714   0.0  ...       0      1     0       0       0               0        0   \n1200  0.0  ...       0      0     0       1       0               0        0   \n\n     Thriller War Western  \n966         1   0       0  \n932         0   0       0  \n109         0   0       0  \n714         0   0       0  \n1200        1   0       0  \n\n[5 rows x 38 columns]",
      "text/html": "<div>\n<style scoped>\n    .dataframe tbody tr th:only-of-type {\n        vertical-align: middle;\n    }\n\n    .dataframe tbody tr th {\n        vertical-align: top;\n    }\n\n    .dataframe thead th {\n        text-align: right;\n    }\n</style>\n<table border=\"1\" class=\"dataframe\">\n  <thead>\n    <tr style=\"text-align: right;\">\n      <th></th>\n      <th>budget(mil)</th>\n      <th>vote_count</th>\n      <th>vote_average</th>\n      <th>adult</th>\n      <th>popularity</th>\n      <th>Jan</th>\n      <th>Feb</th>\n      <th>Mar</th>\n      <th>Apr</th>\n      <th>May</th>\n      <th>...</th>\n      <th>History</th>\n      <th>Horror</th>\n      <th>Music</th>\n      <th>Mystery</th>\n      <th>Romance</th>\n      <th>Science Fiction</th>\n      <th>TV Movie</th>\n      <th>Thriller</th>\n      <th>War</th>\n      <th>Western</th>\n    </tr>\n  </thead>\n  <tbody>\n    <tr>\n      <th>966</th>\n      <td>110.0</td>\n      <td>9952</td>\n      <td>6.682</td>\n      <td>0</td>\n      <td>50.412</td>\n      <td>0.0</td>\n      <td>0.0</td>\n      <td>0.0</td>\n      <td>0.0</td>\n      <td>0.0</td>\n      <td>...</td>\n      <td>0</td>\n      <td>0</td>\n      <td>0</td>\n      <td>0</td>\n      <td>0</td>\n      <td>0</td>\n      <td>0</td>\n      <td>1</td>\n      <td>0</td>\n      <td>0</td>\n    </tr>\n    <tr>\n      <th>932</th>\n      <td>7.0</td>\n      <td>3337</td>\n      <td>7.197</td>\n      <td>0</td>\n      <td>38.307</td>\n      <td>0.0</td>\n      <td>0.0</td>\n      <td>0.0</td>\n      <td>0.0</td>\n      <td>0.0</td>\n      <td>...</td>\n      <td>0</td>\n      <td>0</td>\n      <td>0</td>\n      <td>0</td>\n      <td>0</td>\n      <td>1</td>\n      <td>0</td>\n      <td>0</td>\n      <td>0</td>\n      <td>0</td>\n    </tr>\n    <tr>\n      <th>109</th>\n      <td>37.0</td>\n      <td>13038</td>\n      <td>6.29</td>\n      <td>0</td>\n      <td>135.867</td>\n      <td>0.0</td>\n      <td>0.0</td>\n      <td>0.0</td>\n      <td>0.0</td>\n      <td>0.0</td>\n      <td>...</td>\n      <td>0</td>\n      <td>0</td>\n      <td>0</td>\n      <td>0</td>\n      <td>1</td>\n      <td>0</td>\n      <td>0</td>\n      <td>0</td>\n      <td>0</td>\n      <td>0</td>\n    </tr>\n    <tr>\n      <th>714</th>\n      <td>8.0</td>\n      <td>950</td>\n      <td>6.926</td>\n      <td>0</td>\n      <td>45.035</td>\n      <td>0.0</td>\n      <td>0.0</td>\n      <td>0.0</td>\n      <td>0.0</td>\n      <td>0.0</td>\n      <td>...</td>\n      <td>0</td>\n      <td>1</td>\n      <td>0</td>\n      <td>0</td>\n      <td>0</td>\n      <td>0</td>\n      <td>0</td>\n      <td>0</td>\n      <td>0</td>\n      <td>0</td>\n    </tr>\n    <tr>\n      <th>1200</th>\n      <td>90.0</td>\n      <td>3429</td>\n      <td>6.435</td>\n      <td>0</td>\n      <td>39.288</td>\n      <td>0.0</td>\n      <td>0.0</td>\n      <td>0.0</td>\n      <td>1.0</td>\n      <td>0.0</td>\n      <td>...</td>\n      <td>0</td>\n      <td>0</td>\n      <td>0</td>\n      <td>1</td>\n      <td>0</td>\n      <td>0</td>\n      <td>0</td>\n      <td>1</td>\n      <td>0</td>\n      <td>0</td>\n    </tr>\n  </tbody>\n</table>\n<p>5 rows × 38 columns</p>\n</div>"
     },
     "execution_count": 44,
     "metadata": {},
     "output_type": "execute_result"
    }
   ],
   "source": [
    "X_train.head()"
   ],
   "metadata": {
    "collapsed": false,
    "ExecuteTime": {
     "end_time": "2024-04-08T19:00:42.602637Z",
     "start_time": "2024-04-08T19:00:42.574583Z"
    }
   },
   "id": "2af88e180951d38c",
   "execution_count": 44
  },
  {
   "cell_type": "code",
   "outputs": [
    {
     "data": {
      "text/plain": "RandomForestRegressor(min_samples_leaf=5, n_estimators=120)",
      "text/html": "<style>#sk-container-id-8 {\n  /* Definition of color scheme common for light and dark mode */\n  --sklearn-color-text: black;\n  --sklearn-color-line: gray;\n  /* Definition of color scheme for unfitted estimators */\n  --sklearn-color-unfitted-level-0: #fff5e6;\n  --sklearn-color-unfitted-level-1: #f6e4d2;\n  --sklearn-color-unfitted-level-2: #ffe0b3;\n  --sklearn-color-unfitted-level-3: chocolate;\n  /* Definition of color scheme for fitted estimators */\n  --sklearn-color-fitted-level-0: #f0f8ff;\n  --sklearn-color-fitted-level-1: #d4ebff;\n  --sklearn-color-fitted-level-2: #b3dbfd;\n  --sklearn-color-fitted-level-3: cornflowerblue;\n\n  /* Specific color for light theme */\n  --sklearn-color-text-on-default-background: var(--sg-text-color, var(--theme-code-foreground, var(--jp-content-font-color1, black)));\n  --sklearn-color-background: var(--sg-background-color, var(--theme-background, var(--jp-layout-color0, white)));\n  --sklearn-color-border-box: var(--sg-text-color, var(--theme-code-foreground, var(--jp-content-font-color1, black)));\n  --sklearn-color-icon: #696969;\n\n  @media (prefers-color-scheme: dark) {\n    /* Redefinition of color scheme for dark theme */\n    --sklearn-color-text-on-default-background: var(--sg-text-color, var(--theme-code-foreground, var(--jp-content-font-color1, white)));\n    --sklearn-color-background: var(--sg-background-color, var(--theme-background, var(--jp-layout-color0, #111)));\n    --sklearn-color-border-box: var(--sg-text-color, var(--theme-code-foreground, var(--jp-content-font-color1, white)));\n    --sklearn-color-icon: #878787;\n  }\n}\n\n#sk-container-id-8 {\n  color: var(--sklearn-color-text);\n}\n\n#sk-container-id-8 pre {\n  padding: 0;\n}\n\n#sk-container-id-8 input.sk-hidden--visually {\n  border: 0;\n  clip: rect(1px 1px 1px 1px);\n  clip: rect(1px, 1px, 1px, 1px);\n  height: 1px;\n  margin: -1px;\n  overflow: hidden;\n  padding: 0;\n  position: absolute;\n  width: 1px;\n}\n\n#sk-container-id-8 div.sk-dashed-wrapped {\n  border: 1px dashed var(--sklearn-color-line);\n  margin: 0 0.4em 0.5em 0.4em;\n  box-sizing: border-box;\n  padding-bottom: 0.4em;\n  background-color: var(--sklearn-color-background);\n}\n\n#sk-container-id-8 div.sk-container {\n  /* jupyter's `normalize.less` sets `[hidden] { display: none; }`\n     but bootstrap.min.css set `[hidden] { display: none !important; }`\n     so we also need the `!important` here to be able to override the\n     default hidden behavior on the sphinx rendered scikit-learn.org.\n     See: https://github.com/scikit-learn/scikit-learn/issues/21755 */\n  display: inline-block !important;\n  position: relative;\n}\n\n#sk-container-id-8 div.sk-text-repr-fallback {\n  display: none;\n}\n\ndiv.sk-parallel-item,\ndiv.sk-serial,\ndiv.sk-item {\n  /* draw centered vertical line to link estimators */\n  background-image: linear-gradient(var(--sklearn-color-text-on-default-background), var(--sklearn-color-text-on-default-background));\n  background-size: 2px 100%;\n  background-repeat: no-repeat;\n  background-position: center center;\n}\n\n/* Parallel-specific style estimator block */\n\n#sk-container-id-8 div.sk-parallel-item::after {\n  content: \"\";\n  width: 100%;\n  border-bottom: 2px solid var(--sklearn-color-text-on-default-background);\n  flex-grow: 1;\n}\n\n#sk-container-id-8 div.sk-parallel {\n  display: flex;\n  align-items: stretch;\n  justify-content: center;\n  background-color: var(--sklearn-color-background);\n  position: relative;\n}\n\n#sk-container-id-8 div.sk-parallel-item {\n  display: flex;\n  flex-direction: column;\n}\n\n#sk-container-id-8 div.sk-parallel-item:first-child::after {\n  align-self: flex-end;\n  width: 50%;\n}\n\n#sk-container-id-8 div.sk-parallel-item:last-child::after {\n  align-self: flex-start;\n  width: 50%;\n}\n\n#sk-container-id-8 div.sk-parallel-item:only-child::after {\n  width: 0;\n}\n\n/* Serial-specific style estimator block */\n\n#sk-container-id-8 div.sk-serial {\n  display: flex;\n  flex-direction: column;\n  align-items: center;\n  background-color: var(--sklearn-color-background);\n  padding-right: 1em;\n  padding-left: 1em;\n}\n\n\n/* Toggleable style: style used for estimator/Pipeline/ColumnTransformer box that is\nclickable and can be expanded/collapsed.\n- Pipeline and ColumnTransformer use this feature and define the default style\n- Estimators will overwrite some part of the style using the `sk-estimator` class\n*/\n\n/* Pipeline and ColumnTransformer style (default) */\n\n#sk-container-id-8 div.sk-toggleable {\n  /* Default theme specific background. It is overwritten whether we have a\n  specific estimator or a Pipeline/ColumnTransformer */\n  background-color: var(--sklearn-color-background);\n}\n\n/* Toggleable label */\n#sk-container-id-8 label.sk-toggleable__label {\n  cursor: pointer;\n  display: block;\n  width: 100%;\n  margin-bottom: 0;\n  padding: 0.5em;\n  box-sizing: border-box;\n  text-align: center;\n}\n\n#sk-container-id-8 label.sk-toggleable__label-arrow:before {\n  /* Arrow on the left of the label */\n  content: \"▸\";\n  float: left;\n  margin-right: 0.25em;\n  color: var(--sklearn-color-icon);\n}\n\n#sk-container-id-8 label.sk-toggleable__label-arrow:hover:before {\n  color: var(--sklearn-color-text);\n}\n\n/* Toggleable content - dropdown */\n\n#sk-container-id-8 div.sk-toggleable__content {\n  max-height: 0;\n  max-width: 0;\n  overflow: hidden;\n  text-align: left;\n  /* unfitted */\n  background-color: var(--sklearn-color-unfitted-level-0);\n}\n\n#sk-container-id-8 div.sk-toggleable__content.fitted {\n  /* fitted */\n  background-color: var(--sklearn-color-fitted-level-0);\n}\n\n#sk-container-id-8 div.sk-toggleable__content pre {\n  margin: 0.2em;\n  border-radius: 0.25em;\n  color: var(--sklearn-color-text);\n  /* unfitted */\n  background-color: var(--sklearn-color-unfitted-level-0);\n}\n\n#sk-container-id-8 div.sk-toggleable__content.fitted pre {\n  /* unfitted */\n  background-color: var(--sklearn-color-fitted-level-0);\n}\n\n#sk-container-id-8 input.sk-toggleable__control:checked~div.sk-toggleable__content {\n  /* Expand drop-down */\n  max-height: 200px;\n  max-width: 100%;\n  overflow: auto;\n}\n\n#sk-container-id-8 input.sk-toggleable__control:checked~label.sk-toggleable__label-arrow:before {\n  content: \"▾\";\n}\n\n/* Pipeline/ColumnTransformer-specific style */\n\n#sk-container-id-8 div.sk-label input.sk-toggleable__control:checked~label.sk-toggleable__label {\n  color: var(--sklearn-color-text);\n  background-color: var(--sklearn-color-unfitted-level-2);\n}\n\n#sk-container-id-8 div.sk-label.fitted input.sk-toggleable__control:checked~label.sk-toggleable__label {\n  background-color: var(--sklearn-color-fitted-level-2);\n}\n\n/* Estimator-specific style */\n\n/* Colorize estimator box */\n#sk-container-id-8 div.sk-estimator input.sk-toggleable__control:checked~label.sk-toggleable__label {\n  /* unfitted */\n  background-color: var(--sklearn-color-unfitted-level-2);\n}\n\n#sk-container-id-8 div.sk-estimator.fitted input.sk-toggleable__control:checked~label.sk-toggleable__label {\n  /* fitted */\n  background-color: var(--sklearn-color-fitted-level-2);\n}\n\n#sk-container-id-8 div.sk-label label.sk-toggleable__label,\n#sk-container-id-8 div.sk-label label {\n  /* The background is the default theme color */\n  color: var(--sklearn-color-text-on-default-background);\n}\n\n/* On hover, darken the color of the background */\n#sk-container-id-8 div.sk-label:hover label.sk-toggleable__label {\n  color: var(--sklearn-color-text);\n  background-color: var(--sklearn-color-unfitted-level-2);\n}\n\n/* Label box, darken color on hover, fitted */\n#sk-container-id-8 div.sk-label.fitted:hover label.sk-toggleable__label.fitted {\n  color: var(--sklearn-color-text);\n  background-color: var(--sklearn-color-fitted-level-2);\n}\n\n/* Estimator label */\n\n#sk-container-id-8 div.sk-label label {\n  font-family: monospace;\n  font-weight: bold;\n  display: inline-block;\n  line-height: 1.2em;\n}\n\n#sk-container-id-8 div.sk-label-container {\n  text-align: center;\n}\n\n/* Estimator-specific */\n#sk-container-id-8 div.sk-estimator {\n  font-family: monospace;\n  border: 1px dotted var(--sklearn-color-border-box);\n  border-radius: 0.25em;\n  box-sizing: border-box;\n  margin-bottom: 0.5em;\n  /* unfitted */\n  background-color: var(--sklearn-color-unfitted-level-0);\n}\n\n#sk-container-id-8 div.sk-estimator.fitted {\n  /* fitted */\n  background-color: var(--sklearn-color-fitted-level-0);\n}\n\n/* on hover */\n#sk-container-id-8 div.sk-estimator:hover {\n  /* unfitted */\n  background-color: var(--sklearn-color-unfitted-level-2);\n}\n\n#sk-container-id-8 div.sk-estimator.fitted:hover {\n  /* fitted */\n  background-color: var(--sklearn-color-fitted-level-2);\n}\n\n/* Specification for estimator info (e.g. \"i\" and \"?\") */\n\n/* Common style for \"i\" and \"?\" */\n\n.sk-estimator-doc-link,\na:link.sk-estimator-doc-link,\na:visited.sk-estimator-doc-link {\n  float: right;\n  font-size: smaller;\n  line-height: 1em;\n  font-family: monospace;\n  background-color: var(--sklearn-color-background);\n  border-radius: 1em;\n  height: 1em;\n  width: 1em;\n  text-decoration: none !important;\n  margin-left: 1ex;\n  /* unfitted */\n  border: var(--sklearn-color-unfitted-level-1) 1pt solid;\n  color: var(--sklearn-color-unfitted-level-1);\n}\n\n.sk-estimator-doc-link.fitted,\na:link.sk-estimator-doc-link.fitted,\na:visited.sk-estimator-doc-link.fitted {\n  /* fitted */\n  border: var(--sklearn-color-fitted-level-1) 1pt solid;\n  color: var(--sklearn-color-fitted-level-1);\n}\n\n/* On hover */\ndiv.sk-estimator:hover .sk-estimator-doc-link:hover,\n.sk-estimator-doc-link:hover,\ndiv.sk-label-container:hover .sk-estimator-doc-link:hover,\n.sk-estimator-doc-link:hover {\n  /* unfitted */\n  background-color: var(--sklearn-color-unfitted-level-3);\n  color: var(--sklearn-color-background);\n  text-decoration: none;\n}\n\ndiv.sk-estimator.fitted:hover .sk-estimator-doc-link.fitted:hover,\n.sk-estimator-doc-link.fitted:hover,\ndiv.sk-label-container:hover .sk-estimator-doc-link.fitted:hover,\n.sk-estimator-doc-link.fitted:hover {\n  /* fitted */\n  background-color: var(--sklearn-color-fitted-level-3);\n  color: var(--sklearn-color-background);\n  text-decoration: none;\n}\n\n/* Span, style for the box shown on hovering the info icon */\n.sk-estimator-doc-link span {\n  display: none;\n  z-index: 9999;\n  position: relative;\n  font-weight: normal;\n  right: .2ex;\n  padding: .5ex;\n  margin: .5ex;\n  width: min-content;\n  min-width: 20ex;\n  max-width: 50ex;\n  color: var(--sklearn-color-text);\n  box-shadow: 2pt 2pt 4pt #999;\n  /* unfitted */\n  background: var(--sklearn-color-unfitted-level-0);\n  border: .5pt solid var(--sklearn-color-unfitted-level-3);\n}\n\n.sk-estimator-doc-link.fitted span {\n  /* fitted */\n  background: var(--sklearn-color-fitted-level-0);\n  border: var(--sklearn-color-fitted-level-3);\n}\n\n.sk-estimator-doc-link:hover span {\n  display: block;\n}\n\n/* \"?\"-specific style due to the `<a>` HTML tag */\n\n#sk-container-id-8 a.estimator_doc_link {\n  float: right;\n  font-size: 1rem;\n  line-height: 1em;\n  font-family: monospace;\n  background-color: var(--sklearn-color-background);\n  border-radius: 1rem;\n  height: 1rem;\n  width: 1rem;\n  text-decoration: none;\n  /* unfitted */\n  color: var(--sklearn-color-unfitted-level-1);\n  border: var(--sklearn-color-unfitted-level-1) 1pt solid;\n}\n\n#sk-container-id-8 a.estimator_doc_link.fitted {\n  /* fitted */\n  border: var(--sklearn-color-fitted-level-1) 1pt solid;\n  color: var(--sklearn-color-fitted-level-1);\n}\n\n/* On hover */\n#sk-container-id-8 a.estimator_doc_link:hover {\n  /* unfitted */\n  background-color: var(--sklearn-color-unfitted-level-3);\n  color: var(--sklearn-color-background);\n  text-decoration: none;\n}\n\n#sk-container-id-8 a.estimator_doc_link.fitted:hover {\n  /* fitted */\n  background-color: var(--sklearn-color-fitted-level-3);\n}\n</style><div id=\"sk-container-id-8\" class=\"sk-top-container\"><div class=\"sk-text-repr-fallback\"><pre>RandomForestRegressor(min_samples_leaf=5, n_estimators=120)</pre><b>In a Jupyter environment, please rerun this cell to show the HTML representation or trust the notebook. <br />On GitHub, the HTML representation is unable to render, please try loading this page with nbviewer.org.</b></div><div class=\"sk-container\" hidden><div class=\"sk-item\"><div class=\"sk-estimator fitted sk-toggleable\"><input class=\"sk-toggleable__control sk-hidden--visually\" id=\"sk-estimator-id-12\" type=\"checkbox\" checked><label for=\"sk-estimator-id-12\" class=\"sk-toggleable__label fitted sk-toggleable__label-arrow fitted\">&nbsp;&nbsp;RandomForestRegressor<a class=\"sk-estimator-doc-link fitted\" rel=\"noreferrer\" target=\"_blank\" href=\"https://scikit-learn.org/1.4/modules/generated/sklearn.ensemble.RandomForestRegressor.html\">?<span>Documentation for RandomForestRegressor</span></a><span class=\"sk-estimator-doc-link fitted\">i<span>Fitted</span></span></label><div class=\"sk-toggleable__content fitted\"><pre>RandomForestRegressor(min_samples_leaf=5, n_estimators=120)</pre></div> </div></div></div></div>"
     },
     "execution_count": 47,
     "metadata": {},
     "output_type": "execute_result"
    }
   ],
   "source": [
    "from sklearn.ensemble import RandomForestRegressor\n",
    "\n",
    "clf = RandomForestRegressor(n_estimators=120, max_depth=None, min_samples_leaf=5)\n",
    "clf.fit(X_train, y_train)"
   ],
   "metadata": {
    "collapsed": false,
    "ExecuteTime": {
     "end_time": "2024-04-08T19:02:18.952670Z",
     "start_time": "2024-04-08T19:02:18.070684Z"
    }
   },
   "id": "5b3e24967f16fc8b",
   "execution_count": 47
  },
  {
   "cell_type": "code",
   "outputs": [],
   "source": [
    "X_test = ML_pipeline.fit_transform(X_test)"
   ],
   "metadata": {
    "collapsed": false,
    "ExecuteTime": {
     "end_time": "2024-04-08T19:01:16.037856Z",
     "start_time": "2024-04-08T19:01:15.989686Z"
    }
   },
   "id": "7b0a0d70b95fbdfa",
   "execution_count": 46
  },
  {
   "cell_type": "code",
   "outputs": [
    {
     "data": {
      "text/plain": "0.6871320282235902"
     },
     "execution_count": 64,
     "metadata": {},
     "output_type": "execute_result"
    }
   ],
   "source": [
    "clf.score(X_test, y_test)"
   ],
   "metadata": {
    "collapsed": false,
    "ExecuteTime": {
     "end_time": "2024-04-08T19:22:10.671249Z",
     "start_time": "2024-04-08T19:22:10.655455Z"
    }
   },
   "id": "7c963a1033633460",
   "execution_count": 64
  },
  {
   "cell_type": "markdown",
   "source": [
    "## Conclusion:\n",
    "\n",
    "The regression model achieved an R-squared value of 0.68, indicating that approximately 68% of the variance in the dependent variable (the outcome) is explained by the independent variables (the predictors) included in the model. \n",
    "\n",
    "### Interpretation:\n",
    "\n",
    "- An R-squared value of 0.68 suggests that the model captures a substantial portion of the variability in the data and demonstrates a moderate level of predictive performance.\n",
    "\n",
    "- The model's ability to explain 68% of the variance in the response variable indicates a reasonably good fit to the observed data.\n",
    "\n",
    "### Future Direction:\n",
    "\n",
    "While achieving an R-squared value of 0.68 is a promising start, it's essential to recognize that this is just the beginning of my journey. Further evaluation and refinement of the model will be necessary to improve its predictive accuracy and robustness.\n",
    "\n",
    "### Next Steps:\n",
    "\n",
    "- **Model Refinement:** Explore additional predictors, feature engineering techniques, or alternative model specifications to enhance the model's performance further.\n",
    "\n",
    "- **Cross-Validation:** Validate the model's performance on unseen data using techniques such as cross-validation to assess its generalizability and stability.\n",
    "\n",
    "- **Diagnostic Checks:** Conduct diagnostic checks, such as residual analysis, to identify areas for improvement and ensure that model assumptions are met.\n",
    "\n",
    "### summary:\n",
    "\n",
    "In summary, while the model has shown promise with an R-squared value of 0.68, there is still much to be done to develop a reliable and accurate predictive model. By continuing to iterate, evaluate, and refine the model, I would strive to enhance its performance and unlock deeper insights into the underlying relationships within the data.\n",
    "\n",
    "This journey represents an ongoing pursuit of excellence in data-driven decision-making and underscores the importance of continuous learning and improvement in predictive modeling endeavors.\n",
    "Arigato!!"
   ],
   "metadata": {
    "collapsed": false
   },
   "id": "2af01df4b7644e63"
  },
  {
   "cell_type": "code",
   "outputs": [],
   "source": [
    "import pickle\n",
    "\n",
    "# Save the model to a file\n",
    "with open('../models/RFR_model.pkl', 'wb') as f:\n",
    "    pickle.dump(clf, f)"
   ],
   "metadata": {
    "collapsed": false,
    "ExecuteTime": {
     "end_time": "2024-04-08T19:26:17.427141Z",
     "start_time": "2024-04-08T19:26:17.403923Z"
    }
   },
   "id": "3a7ba9f54a8e5d8a",
   "execution_count": 66
  },
  {
   "cell_type": "code",
   "outputs": [],
   "source": [
    "with open('../models/RFR_model.pkl', 'rb') as f:\n",
    "    loaded_model = pickle.load(f)"
   ],
   "metadata": {
    "collapsed": false,
    "ExecuteTime": {
     "end_time": "2024-04-08T19:27:00.935988Z",
     "start_time": "2024-04-08T19:27:00.913300Z"
    }
   },
   "id": "6f046e816a14a7c5",
   "execution_count": 67
  },
  {
   "cell_type": "code",
   "outputs": [],
   "source": [],
   "metadata": {
    "collapsed": false
   },
   "id": "f726ff1f8147c6bf"
  }
 ],
 "metadata": {
  "kernelspec": {
   "display_name": "Python 3",
   "language": "python",
   "name": "python3"
  },
  "language_info": {
   "codemirror_mode": {
    "name": "ipython",
    "version": 2
   },
   "file_extension": ".py",
   "mimetype": "text/x-python",
   "name": "python",
   "nbconvert_exporter": "python",
   "pygments_lexer": "ipython2",
   "version": "2.7.6"
  }
 },
 "nbformat": 4,
 "nbformat_minor": 5
}
