{
 "cells": [
  {
   "cell_type": "markdown",
   "source": [
    "# The Movie Database"
   ],
   "metadata": {
    "collapsed": false
   },
   "id": "15fbbd286bb8e2d8"
  },
  {
   "cell_type": "code",
   "execution_count": 1,
   "id": "initial_id",
   "metadata": {
    "collapsed": true,
    "ExecuteTime": {
     "end_time": "2024-04-08T20:34:44.415576Z",
     "start_time": "2024-04-08T20:34:38.312853Z"
    }
   },
   "outputs": [],
   "source": [
    "import pandas as pd\n",
    "import matplotlib.pyplot as plt\n",
    "import seaborn as sns\n",
    "import utils.TmdbHelper as Tmdb"
   ]
  },
  {
   "cell_type": "code",
   "outputs": [],
   "source": [
    "lang = pd.read_html('https://en.wikipedia.org/wiki/List_of_ISO_639-2_codes')\n",
    "lang_codes = lang[1]\n",
    "lang_codes.drop(['639-2[1]', '639-3[2]', '639-5[3]', 'Scope', 'Type', 'Native name(s)',\n",
    "                     'Other name(s)'], axis=1, inplace=True)\n",
    "lang_codes.dropna(inplace=True)"
   ],
   "metadata": {
    "collapsed": false,
    "ExecuteTime": {
     "end_time": "2024-04-08T20:34:51.593821Z",
     "start_time": "2024-04-08T20:34:44.416709Z"
    }
   },
   "id": "3ef281fa01f1f35e",
   "execution_count": 2
  },
  {
   "cell_type": "code",
   "outputs": [],
   "source": [
    "movies_df = Tmdb.get_movies(start_page=1,end_page=100)"
   ],
   "metadata": {
    "collapsed": false,
    "ExecuteTime": {
     "end_time": "2024-04-08T20:34:55.098402Z",
     "start_time": "2024-04-08T20:34:51.597219Z"
    }
   },
   "id": "38e6c42ef6525295",
   "execution_count": 3
  },
  {
   "cell_type": "code",
   "outputs": [
    {
     "name": "stdout",
     "output_type": "stream",
     "text": [
      "<class 'pandas.core.frame.DataFrame'>\n",
      "RangeIndex: 1980 entries, 0 to 1979\n",
      "Data columns (total 19 columns):\n",
      " #   Column                Non-Null Count  Dtype  \n",
      "---  ------                --------------  -----  \n",
      " 0   adult                 1980 non-null   bool   \n",
      " 1   backdrop_path         1968 non-null   object \n",
      " 2   genre_ids             1980 non-null   object \n",
      " 3   id                    1980 non-null   int64  \n",
      " 4   original_language     1980 non-null   object \n",
      " 5   original_title        1980 non-null   object \n",
      " 6   overview              1980 non-null   object \n",
      " 7   popularity            1980 non-null   float64\n",
      " 8   poster_path           1980 non-null   object \n",
      " 9   release_date          1980 non-null   object \n",
      " 10  title                 1980 non-null   object \n",
      " 11  video                 1980 non-null   bool   \n",
      " 12  vote_average          1980 non-null   float64\n",
      " 13  vote_count            1980 non-null   int64  \n",
      " 14  budget                1980 non-null   int64  \n",
      " 15  revenue               1980 non-null   int64  \n",
      " 16  production_companies  1980 non-null   object \n",
      " 17  production_countries  1980 non-null   object \n",
      " 18  runtime               1980 non-null   int64  \n",
      "dtypes: bool(2), float64(2), int64(5), object(10)\n",
      "memory usage: 267.0+ KB\n"
     ]
    }
   ],
   "source": [
    "movies_df.info()"
   ],
   "metadata": {
    "collapsed": false,
    "ExecuteTime": {
     "end_time": "2024-04-08T20:34:55.117671Z",
     "start_time": "2024-04-08T20:34:55.099539Z"
    }
   },
   "id": "be750d904d24ea26",
   "execution_count": 4
  },
  {
   "cell_type": "code",
   "outputs": [
    {
     "data": {
      "text/plain": "   adult                     backdrop_path                genre_ids       id  \\\n0  False  /sR0SpCrXamlIkYMdfz83sFn5JS6.jpg            [28, 878, 12]   823464   \n1  False  /1XDDXPXGiI8id7MrUxK36ke7gkX.jpg  [28, 12, 16, 35, 10751]  1011985   \n2  False  /oe7mWkvYhK4PLRNAVSvonzyUXNy.jpg                 [28, 53]   359410   \n3  False  /9c0lHTXRqDBxeOToVzRu0GArSne.jpg                [878, 28]   935271   \n4  False  /pwGmXVKUgKN13psUjlhC9zBcq1o.jpg                 [28, 14]   634492   \n\n  original_language                   original_title  \\\n0                en  Godzilla x Kong: The New Empire   \n1                en                  Kung Fu Panda 4   \n2                en                       Road House   \n3                en               After the Pandemic   \n4                en                       Madame Web   \n\n                                            overview  popularity  \\\n0  Following their explosive showdown, Godzilla a...    3404.570   \n1  Po is gearing up to become the spiritual leade...    2101.694   \n2  Ex-UFC fighter Dalton takes a job as a bouncer...    1808.763   \n3  Set in a post-apocalyptic world where a global...    1244.584   \n4  Forced to confront revelations about her past,...    1146.356   \n\n                        poster_path release_date  \\\n0  /4Hbf0Gw5PD2GC7PmiwjEwf0ROCU.jpg   2024-03-27   \n1  /kDp1vUBnMpe8ak4rjgl3cLELqjU.jpg   2024-03-02   \n2  /bXi6IQiQDHD00JFio5ZSZOeRSBh.jpg   2024-03-08   \n3  /p1LbrdJ53dGfEhRopG71akfzOVu.jpg   2022-03-01   \n4  /rULWuutDcN5NvtiZi4FRPzRYWSh.jpg   2024-02-14   \n\n                             title  video  vote_average  vote_count  \\\n0  Godzilla x Kong: The New Empire  False         6.800         422   \n1                  Kung Fu Panda 4  False         6.773         598   \n2                       Road House  False         7.138        1196   \n3               After the Pandemic  False         5.250          14   \n4                       Madame Web  False         5.659         971   \n\n      budget    revenue                          production_companies  \\\n0  135000000  214305986   [Legendary Pictures, Warner Bros. Pictures]   \n1   85000000  347255055                        [DreamWorks Animation]   \n2   85000000          0        [Metro-Goldwyn-Mayer, Silver Pictures]   \n3          0          0                   [Andromeda Motion Pictures]   \n4   80000000   99266032  [Columbia Pictures, di Bonaventura Pictures]   \n\n         production_countries  runtime  \n0  [United States of America]      115  \n1  [United States of America]       94  \n2  [United States of America]      121  \n3  [United States of America]       84  \n4  [United States of America]      116  ",
      "text/html": "<div>\n<style scoped>\n    .dataframe tbody tr th:only-of-type {\n        vertical-align: middle;\n    }\n\n    .dataframe tbody tr th {\n        vertical-align: top;\n    }\n\n    .dataframe thead th {\n        text-align: right;\n    }\n</style>\n<table border=\"1\" class=\"dataframe\">\n  <thead>\n    <tr style=\"text-align: right;\">\n      <th></th>\n      <th>adult</th>\n      <th>backdrop_path</th>\n      <th>genre_ids</th>\n      <th>id</th>\n      <th>original_language</th>\n      <th>original_title</th>\n      <th>overview</th>\n      <th>popularity</th>\n      <th>poster_path</th>\n      <th>release_date</th>\n      <th>title</th>\n      <th>video</th>\n      <th>vote_average</th>\n      <th>vote_count</th>\n      <th>budget</th>\n      <th>revenue</th>\n      <th>production_companies</th>\n      <th>production_countries</th>\n      <th>runtime</th>\n    </tr>\n  </thead>\n  <tbody>\n    <tr>\n      <th>0</th>\n      <td>False</td>\n      <td>/sR0SpCrXamlIkYMdfz83sFn5JS6.jpg</td>\n      <td>[28, 878, 12]</td>\n      <td>823464</td>\n      <td>en</td>\n      <td>Godzilla x Kong: The New Empire</td>\n      <td>Following their explosive showdown, Godzilla a...</td>\n      <td>3404.570</td>\n      <td>/4Hbf0Gw5PD2GC7PmiwjEwf0ROCU.jpg</td>\n      <td>2024-03-27</td>\n      <td>Godzilla x Kong: The New Empire</td>\n      <td>False</td>\n      <td>6.800</td>\n      <td>422</td>\n      <td>135000000</td>\n      <td>214305986</td>\n      <td>[Legendary Pictures, Warner Bros. Pictures]</td>\n      <td>[United States of America]</td>\n      <td>115</td>\n    </tr>\n    <tr>\n      <th>1</th>\n      <td>False</td>\n      <td>/1XDDXPXGiI8id7MrUxK36ke7gkX.jpg</td>\n      <td>[28, 12, 16, 35, 10751]</td>\n      <td>1011985</td>\n      <td>en</td>\n      <td>Kung Fu Panda 4</td>\n      <td>Po is gearing up to become the spiritual leade...</td>\n      <td>2101.694</td>\n      <td>/kDp1vUBnMpe8ak4rjgl3cLELqjU.jpg</td>\n      <td>2024-03-02</td>\n      <td>Kung Fu Panda 4</td>\n      <td>False</td>\n      <td>6.773</td>\n      <td>598</td>\n      <td>85000000</td>\n      <td>347255055</td>\n      <td>[DreamWorks Animation]</td>\n      <td>[United States of America]</td>\n      <td>94</td>\n    </tr>\n    <tr>\n      <th>2</th>\n      <td>False</td>\n      <td>/oe7mWkvYhK4PLRNAVSvonzyUXNy.jpg</td>\n      <td>[28, 53]</td>\n      <td>359410</td>\n      <td>en</td>\n      <td>Road House</td>\n      <td>Ex-UFC fighter Dalton takes a job as a bouncer...</td>\n      <td>1808.763</td>\n      <td>/bXi6IQiQDHD00JFio5ZSZOeRSBh.jpg</td>\n      <td>2024-03-08</td>\n      <td>Road House</td>\n      <td>False</td>\n      <td>7.138</td>\n      <td>1196</td>\n      <td>85000000</td>\n      <td>0</td>\n      <td>[Metro-Goldwyn-Mayer, Silver Pictures]</td>\n      <td>[United States of America]</td>\n      <td>121</td>\n    </tr>\n    <tr>\n      <th>3</th>\n      <td>False</td>\n      <td>/9c0lHTXRqDBxeOToVzRu0GArSne.jpg</td>\n      <td>[878, 28]</td>\n      <td>935271</td>\n      <td>en</td>\n      <td>After the Pandemic</td>\n      <td>Set in a post-apocalyptic world where a global...</td>\n      <td>1244.584</td>\n      <td>/p1LbrdJ53dGfEhRopG71akfzOVu.jpg</td>\n      <td>2022-03-01</td>\n      <td>After the Pandemic</td>\n      <td>False</td>\n      <td>5.250</td>\n      <td>14</td>\n      <td>0</td>\n      <td>0</td>\n      <td>[Andromeda Motion Pictures]</td>\n      <td>[United States of America]</td>\n      <td>84</td>\n    </tr>\n    <tr>\n      <th>4</th>\n      <td>False</td>\n      <td>/pwGmXVKUgKN13psUjlhC9zBcq1o.jpg</td>\n      <td>[28, 14]</td>\n      <td>634492</td>\n      <td>en</td>\n      <td>Madame Web</td>\n      <td>Forced to confront revelations about her past,...</td>\n      <td>1146.356</td>\n      <td>/rULWuutDcN5NvtiZi4FRPzRYWSh.jpg</td>\n      <td>2024-02-14</td>\n      <td>Madame Web</td>\n      <td>False</td>\n      <td>5.659</td>\n      <td>971</td>\n      <td>80000000</td>\n      <td>99266032</td>\n      <td>[Columbia Pictures, di Bonaventura Pictures]</td>\n      <td>[United States of America]</td>\n      <td>116</td>\n    </tr>\n  </tbody>\n</table>\n</div>"
     },
     "execution_count": 5,
     "metadata": {},
     "output_type": "execute_result"
    }
   ],
   "source": [
    "movies_df.head()"
   ],
   "metadata": {
    "collapsed": false,
    "ExecuteTime": {
     "end_time": "2024-04-08T20:34:55.317386Z",
     "start_time": "2024-04-08T20:34:55.119873Z"
    }
   },
   "id": "cc63fe1f3b8f8199",
   "execution_count": 5
  },
  {
   "cell_type": "code",
   "outputs": [
    {
     "data": {
      "text/plain": "                 id   popularity  vote_average    vote_count        budget  \\\ncount  1.980000e+03  1980.000000   1980.000000   1980.000000  1.980000e+03   \nmean   3.445585e+05    83.521373      6.727189   4689.687374  5.025715e+07   \nstd    3.643090e+05   123.654724      1.187043   5340.699887  6.466390e+07   \nmin    1.100000e+01    24.771000      0.000000      0.000000  0.000000e+00   \n25%    1.039800e+04    46.803000      6.248000    615.750000  0.000000e+00   \n50%    2.542240e+05    59.589500      6.860000   3033.500000  2.200000e+07   \n75%    6.097982e+05    83.973500      7.427000   6610.500000  7.900000e+07   \nmax    1.262596e+06  3404.570000     10.000000  35500.000000  4.600000e+08   \n\n            revenue      runtime  \ncount  1.980000e+03  1980.000000  \nmean   1.913806e+08   108.398990  \nstd    2.897696e+08    27.953137  \nmin    0.000000e+00     0.000000  \n25%    1.697422e+05    93.000000  \n50%    8.158317e+07   107.000000  \n75%    2.688000e+08   123.000000  \nmax    2.923706e+09   242.000000  ",
      "text/html": "<div>\n<style scoped>\n    .dataframe tbody tr th:only-of-type {\n        vertical-align: middle;\n    }\n\n    .dataframe tbody tr th {\n        vertical-align: top;\n    }\n\n    .dataframe thead th {\n        text-align: right;\n    }\n</style>\n<table border=\"1\" class=\"dataframe\">\n  <thead>\n    <tr style=\"text-align: right;\">\n      <th></th>\n      <th>id</th>\n      <th>popularity</th>\n      <th>vote_average</th>\n      <th>vote_count</th>\n      <th>budget</th>\n      <th>revenue</th>\n      <th>runtime</th>\n    </tr>\n  </thead>\n  <tbody>\n    <tr>\n      <th>count</th>\n      <td>1.980000e+03</td>\n      <td>1980.000000</td>\n      <td>1980.000000</td>\n      <td>1980.000000</td>\n      <td>1.980000e+03</td>\n      <td>1.980000e+03</td>\n      <td>1980.000000</td>\n    </tr>\n    <tr>\n      <th>mean</th>\n      <td>3.445585e+05</td>\n      <td>83.521373</td>\n      <td>6.727189</td>\n      <td>4689.687374</td>\n      <td>5.025715e+07</td>\n      <td>1.913806e+08</td>\n      <td>108.398990</td>\n    </tr>\n    <tr>\n      <th>std</th>\n      <td>3.643090e+05</td>\n      <td>123.654724</td>\n      <td>1.187043</td>\n      <td>5340.699887</td>\n      <td>6.466390e+07</td>\n      <td>2.897696e+08</td>\n      <td>27.953137</td>\n    </tr>\n    <tr>\n      <th>min</th>\n      <td>1.100000e+01</td>\n      <td>24.771000</td>\n      <td>0.000000</td>\n      <td>0.000000</td>\n      <td>0.000000e+00</td>\n      <td>0.000000e+00</td>\n      <td>0.000000</td>\n    </tr>\n    <tr>\n      <th>25%</th>\n      <td>1.039800e+04</td>\n      <td>46.803000</td>\n      <td>6.248000</td>\n      <td>615.750000</td>\n      <td>0.000000e+00</td>\n      <td>1.697422e+05</td>\n      <td>93.000000</td>\n    </tr>\n    <tr>\n      <th>50%</th>\n      <td>2.542240e+05</td>\n      <td>59.589500</td>\n      <td>6.860000</td>\n      <td>3033.500000</td>\n      <td>2.200000e+07</td>\n      <td>8.158317e+07</td>\n      <td>107.000000</td>\n    </tr>\n    <tr>\n      <th>75%</th>\n      <td>6.097982e+05</td>\n      <td>83.973500</td>\n      <td>7.427000</td>\n      <td>6610.500000</td>\n      <td>7.900000e+07</td>\n      <td>2.688000e+08</td>\n      <td>123.000000</td>\n    </tr>\n    <tr>\n      <th>max</th>\n      <td>1.262596e+06</td>\n      <td>3404.570000</td>\n      <td>10.000000</td>\n      <td>35500.000000</td>\n      <td>4.600000e+08</td>\n      <td>2.923706e+09</td>\n      <td>242.000000</td>\n    </tr>\n  </tbody>\n</table>\n</div>"
     },
     "execution_count": 6,
     "metadata": {},
     "output_type": "execute_result"
    }
   ],
   "source": [
    "movies_df.describe()"
   ],
   "metadata": {
    "collapsed": false,
    "ExecuteTime": {
     "end_time": "2024-04-08T20:34:55.414836Z",
     "start_time": "2024-04-08T20:34:55.319058Z"
    }
   },
   "id": "2e5d84907a1c195f",
   "execution_count": 6
  },
  {
   "cell_type": "markdown",
   "source": [
    "## Preprocessing for EDA"
   ],
   "metadata": {
    "collapsed": false
   },
   "id": "aef51248fe8de076"
  },
  {
   "cell_type": "code",
   "outputs": [],
   "source": [
    "from sklearn.base import BaseEstimator, TransformerMixin"
   ],
   "metadata": {
    "collapsed": false,
    "ExecuteTime": {
     "end_time": "2024-04-08T20:34:58.291145Z",
     "start_time": "2024-04-08T20:34:55.416650Z"
    }
   },
   "id": "529dbc0b7c52d00a",
   "execution_count": 7
  },
  {
   "cell_type": "code",
   "outputs": [],
   "source": [
    "class BaseTransformer(BaseEstimator, TransformerMixin):\n",
    "    def fit(self, X, y=None):\n",
    "        return self\n",
    "    \n",
    "    @staticmethod\n",
    "    def transform(X):\n",
    "        X['original_language'] = X['original_language']\\\n",
    "            .transform(lambda x: Tmdb.lang_transform(x, lang_codes))\n",
    "        X['genre'] = X['genre_ids'].transform(lambda x: Tmdb.genre_transform(x))\n",
    "        X['revenue(mil)'] = X['revenue'].apply(lambda x: x // 1000000)\n",
    "        X['budget(mil)'] = X['budget'].apply(lambda x: x // 1000000)\n",
    "        X['release_date'] = pd.to_datetime(X['release_date'])\n",
    "        X['month'] = X['release_date'].dt.strftime('%b')\n",
    "        month_label = ['Jan', 'Feb', 'Mar', 'Apr', 'May', 'Jun', 'Jul', 'Aug', 'Sep', 'Oct', 'Nov', 'Dec']\n",
    "        X['month'] = pd.Categorical(X['month'], categories=month_label, ordered=True)\n",
    "        return X"
   ],
   "metadata": {
    "collapsed": false,
    "ExecuteTime": {
     "end_time": "2024-04-08T20:34:58.304138Z",
     "start_time": "2024-04-08T20:34:58.292216Z"
    }
   },
   "id": "158a42e9db6eeb07",
   "execution_count": 8
  },
  {
   "cell_type": "code",
   "outputs": [],
   "source": [
    "class TypeTransformer(BaseEstimator, TransformerMixin):\n",
    "    def fit(self, X, y=None):\n",
    "        return self\n",
    "    \n",
    "    @staticmethod\n",
    "    def transform(X):\n",
    "        X['revenue(mil)'] = X['revenue(mil)'].astype('float')\n",
    "        X['budget(mil)'] = X['budget(mil)'].astype('float')\n",
    "        X['runtime(min)'] = X['runtime'].astype('float')\n",
    "        X['adult'] = X['adult'].astype('category')\n",
    "        X['original_language'] = X['original_language'].astype('category')\n",
    "        \n",
    "        \n",
    "        return X"
   ],
   "metadata": {
    "collapsed": false,
    "ExecuteTime": {
     "end_time": "2024-04-08T20:34:58.407949Z",
     "start_time": "2024-04-08T20:34:58.306348Z"
    }
   },
   "id": "7ea5165abfc188f2",
   "execution_count": 9
  },
  {
   "cell_type": "code",
   "outputs": [],
   "source": [
    "class FeatureDropper(BaseEstimator, TransformerMixin):\n",
    "    def fit(self, X, y=None):\n",
    "        return self\n",
    "    \n",
    "    @staticmethod\n",
    "    def transform(X): \n",
    "        X = X.loc[(X['revenue(mil)'] > 0) & (X['budget(mil)'] > 0)]\n",
    "        return X.drop(['backdrop_path','overview','poster_path','video','genre_ids', 'budget','revenue','runtime'], axis=1, errors=\"ignore\")"
   ],
   "metadata": {
    "collapsed": false,
    "ExecuteTime": {
     "end_time": "2024-04-08T20:34:58.541629Z",
     "start_time": "2024-04-08T20:34:58.409610Z"
    }
   },
   "id": "afccf70f1da17598",
   "execution_count": 10
  },
  {
   "cell_type": "code",
   "outputs": [],
   "source": [
    "from sklearn.pipeline import Pipeline\n",
    "\n",
    "pipline = Pipeline([('transform', BaseTransformer()),\n",
    "                    ('type', TypeTransformer()),\n",
    "                    ('dropper', FeatureDropper())])"
   ],
   "metadata": {
    "collapsed": false,
    "ExecuteTime": {
     "end_time": "2024-04-08T20:34:59.745751Z",
     "start_time": "2024-04-08T20:34:58.546187Z"
    }
   },
   "id": "a654a0078a733078",
   "execution_count": 11
  },
  {
   "cell_type": "code",
   "outputs": [
    {
     "ename": "TypeError",
     "evalue": "BaseTransformer.transform() takes 1 positional argument but 2 were given",
     "output_type": "error",
     "traceback": [
      "\u001B[1;31m---------------------------------------------------------------------------\u001B[0m",
      "\u001B[1;31mTypeError\u001B[0m                                 Traceback (most recent call last)",
      "Cell \u001B[1;32mIn[12], line 1\u001B[0m\n\u001B[1;32m----> 1\u001B[0m movies_df \u001B[38;5;241m=\u001B[39m \u001B[43mpipline\u001B[49m\u001B[38;5;241;43m.\u001B[39;49m\u001B[43mfit_transform\u001B[49m\u001B[43m(\u001B[49m\u001B[43mmovies_df\u001B[49m\u001B[43m)\u001B[49m\n",
      "File \u001B[1;32m~\\AppData\\Local\\Programs\\Python\\Python312\\Lib\\site-packages\\sklearn\\base.py:1474\u001B[0m, in \u001B[0;36m_fit_context.<locals>.decorator.<locals>.wrapper\u001B[1;34m(estimator, *args, **kwargs)\u001B[0m\n\u001B[0;32m   1467\u001B[0m     estimator\u001B[38;5;241m.\u001B[39m_validate_params()\n\u001B[0;32m   1469\u001B[0m \u001B[38;5;28;01mwith\u001B[39;00m config_context(\n\u001B[0;32m   1470\u001B[0m     skip_parameter_validation\u001B[38;5;241m=\u001B[39m(\n\u001B[0;32m   1471\u001B[0m         prefer_skip_nested_validation \u001B[38;5;129;01mor\u001B[39;00m global_skip_validation\n\u001B[0;32m   1472\u001B[0m     )\n\u001B[0;32m   1473\u001B[0m ):\n\u001B[1;32m-> 1474\u001B[0m     \u001B[38;5;28;01mreturn\u001B[39;00m \u001B[43mfit_method\u001B[49m\u001B[43m(\u001B[49m\u001B[43mestimator\u001B[49m\u001B[43m,\u001B[49m\u001B[43m \u001B[49m\u001B[38;5;241;43m*\u001B[39;49m\u001B[43margs\u001B[49m\u001B[43m,\u001B[49m\u001B[43m \u001B[49m\u001B[38;5;241;43m*\u001B[39;49m\u001B[38;5;241;43m*\u001B[39;49m\u001B[43mkwargs\u001B[49m\u001B[43m)\u001B[49m\n",
      "File \u001B[1;32m~\\AppData\\Local\\Programs\\Python\\Python312\\Lib\\site-packages\\sklearn\\pipeline.py:535\u001B[0m, in \u001B[0;36mPipeline.fit_transform\u001B[1;34m(self, X, y, **params)\u001B[0m\n\u001B[0;32m    492\u001B[0m \u001B[38;5;250m\u001B[39m\u001B[38;5;124;03m\"\"\"Fit the model and transform with the final estimator.\u001B[39;00m\n\u001B[0;32m    493\u001B[0m \n\u001B[0;32m    494\u001B[0m \u001B[38;5;124;03mFit all the transformers one after the other and sequentially transform\u001B[39;00m\n\u001B[1;32m   (...)\u001B[0m\n\u001B[0;32m    532\u001B[0m \u001B[38;5;124;03m    Transformed samples.\u001B[39;00m\n\u001B[0;32m    533\u001B[0m \u001B[38;5;124;03m\"\"\"\u001B[39;00m\n\u001B[0;32m    534\u001B[0m routed_params \u001B[38;5;241m=\u001B[39m \u001B[38;5;28mself\u001B[39m\u001B[38;5;241m.\u001B[39m_check_method_params(method\u001B[38;5;241m=\u001B[39m\u001B[38;5;124m\"\u001B[39m\u001B[38;5;124mfit_transform\u001B[39m\u001B[38;5;124m\"\u001B[39m, props\u001B[38;5;241m=\u001B[39mparams)\n\u001B[1;32m--> 535\u001B[0m Xt \u001B[38;5;241m=\u001B[39m \u001B[38;5;28;43mself\u001B[39;49m\u001B[38;5;241;43m.\u001B[39;49m\u001B[43m_fit\u001B[49m\u001B[43m(\u001B[49m\u001B[43mX\u001B[49m\u001B[43m,\u001B[49m\u001B[43m \u001B[49m\u001B[43my\u001B[49m\u001B[43m,\u001B[49m\u001B[43m \u001B[49m\u001B[43mrouted_params\u001B[49m\u001B[43m)\u001B[49m\n\u001B[0;32m    537\u001B[0m last_step \u001B[38;5;241m=\u001B[39m \u001B[38;5;28mself\u001B[39m\u001B[38;5;241m.\u001B[39m_final_estimator\n\u001B[0;32m    538\u001B[0m \u001B[38;5;28;01mwith\u001B[39;00m _print_elapsed_time(\u001B[38;5;124m\"\u001B[39m\u001B[38;5;124mPipeline\u001B[39m\u001B[38;5;124m\"\u001B[39m, \u001B[38;5;28mself\u001B[39m\u001B[38;5;241m.\u001B[39m_log_message(\u001B[38;5;28mlen\u001B[39m(\u001B[38;5;28mself\u001B[39m\u001B[38;5;241m.\u001B[39msteps) \u001B[38;5;241m-\u001B[39m \u001B[38;5;241m1\u001B[39m)):\n",
      "File \u001B[1;32m~\\AppData\\Local\\Programs\\Python\\Python312\\Lib\\site-packages\\sklearn\\pipeline.py:408\u001B[0m, in \u001B[0;36mPipeline._fit\u001B[1;34m(self, X, y, routed_params)\u001B[0m\n\u001B[0;32m    406\u001B[0m     cloned_transformer \u001B[38;5;241m=\u001B[39m clone(transformer)\n\u001B[0;32m    407\u001B[0m \u001B[38;5;66;03m# Fit or load from cache the current transformer\u001B[39;00m\n\u001B[1;32m--> 408\u001B[0m X, fitted_transformer \u001B[38;5;241m=\u001B[39m \u001B[43mfit_transform_one_cached\u001B[49m\u001B[43m(\u001B[49m\n\u001B[0;32m    409\u001B[0m \u001B[43m    \u001B[49m\u001B[43mcloned_transformer\u001B[49m\u001B[43m,\u001B[49m\n\u001B[0;32m    410\u001B[0m \u001B[43m    \u001B[49m\u001B[43mX\u001B[49m\u001B[43m,\u001B[49m\n\u001B[0;32m    411\u001B[0m \u001B[43m    \u001B[49m\u001B[43my\u001B[49m\u001B[43m,\u001B[49m\n\u001B[0;32m    412\u001B[0m \u001B[43m    \u001B[49m\u001B[38;5;28;43;01mNone\u001B[39;49;00m\u001B[43m,\u001B[49m\n\u001B[0;32m    413\u001B[0m \u001B[43m    \u001B[49m\u001B[43mmessage_clsname\u001B[49m\u001B[38;5;241;43m=\u001B[39;49m\u001B[38;5;124;43m\"\u001B[39;49m\u001B[38;5;124;43mPipeline\u001B[39;49m\u001B[38;5;124;43m\"\u001B[39;49m\u001B[43m,\u001B[49m\n\u001B[0;32m    414\u001B[0m \u001B[43m    \u001B[49m\u001B[43mmessage\u001B[49m\u001B[38;5;241;43m=\u001B[39;49m\u001B[38;5;28;43mself\u001B[39;49m\u001B[38;5;241;43m.\u001B[39;49m\u001B[43m_log_message\u001B[49m\u001B[43m(\u001B[49m\u001B[43mstep_idx\u001B[49m\u001B[43m)\u001B[49m\u001B[43m,\u001B[49m\n\u001B[0;32m    415\u001B[0m \u001B[43m    \u001B[49m\u001B[43mparams\u001B[49m\u001B[38;5;241;43m=\u001B[39;49m\u001B[43mrouted_params\u001B[49m\u001B[43m[\u001B[49m\u001B[43mname\u001B[49m\u001B[43m]\u001B[49m\u001B[43m,\u001B[49m\n\u001B[0;32m    416\u001B[0m \u001B[43m\u001B[49m\u001B[43m)\u001B[49m\n\u001B[0;32m    417\u001B[0m \u001B[38;5;66;03m# Replace the transformer of the step with the fitted\u001B[39;00m\n\u001B[0;32m    418\u001B[0m \u001B[38;5;66;03m# transformer. This is necessary when loading the transformer\u001B[39;00m\n\u001B[0;32m    419\u001B[0m \u001B[38;5;66;03m# from the cache.\u001B[39;00m\n\u001B[0;32m    420\u001B[0m \u001B[38;5;28mself\u001B[39m\u001B[38;5;241m.\u001B[39msteps[step_idx] \u001B[38;5;241m=\u001B[39m (name, fitted_transformer)\n",
      "File \u001B[1;32m~\\AppData\\Local\\Programs\\Python\\Python312\\Lib\\site-packages\\joblib\\memory.py:353\u001B[0m, in \u001B[0;36mNotMemorizedFunc.__call__\u001B[1;34m(self, *args, **kwargs)\u001B[0m\n\u001B[0;32m    352\u001B[0m \u001B[38;5;28;01mdef\u001B[39;00m \u001B[38;5;21m__call__\u001B[39m(\u001B[38;5;28mself\u001B[39m, \u001B[38;5;241m*\u001B[39margs, \u001B[38;5;241m*\u001B[39m\u001B[38;5;241m*\u001B[39mkwargs):\n\u001B[1;32m--> 353\u001B[0m     \u001B[38;5;28;01mreturn\u001B[39;00m \u001B[38;5;28;43mself\u001B[39;49m\u001B[38;5;241;43m.\u001B[39;49m\u001B[43mfunc\u001B[49m\u001B[43m(\u001B[49m\u001B[38;5;241;43m*\u001B[39;49m\u001B[43margs\u001B[49m\u001B[43m,\u001B[49m\u001B[43m \u001B[49m\u001B[38;5;241;43m*\u001B[39;49m\u001B[38;5;241;43m*\u001B[39;49m\u001B[43mkwargs\u001B[49m\u001B[43m)\u001B[49m\n",
      "File \u001B[1;32m~\\AppData\\Local\\Programs\\Python\\Python312\\Lib\\site-packages\\sklearn\\pipeline.py:1303\u001B[0m, in \u001B[0;36m_fit_transform_one\u001B[1;34m(transformer, X, y, weight, message_clsname, message, params)\u001B[0m\n\u001B[0;32m   1301\u001B[0m \u001B[38;5;28;01mwith\u001B[39;00m _print_elapsed_time(message_clsname, message):\n\u001B[0;32m   1302\u001B[0m     \u001B[38;5;28;01mif\u001B[39;00m \u001B[38;5;28mhasattr\u001B[39m(transformer, \u001B[38;5;124m\"\u001B[39m\u001B[38;5;124mfit_transform\u001B[39m\u001B[38;5;124m\"\u001B[39m):\n\u001B[1;32m-> 1303\u001B[0m         res \u001B[38;5;241m=\u001B[39m \u001B[43mtransformer\u001B[49m\u001B[38;5;241;43m.\u001B[39;49m\u001B[43mfit_transform\u001B[49m\u001B[43m(\u001B[49m\u001B[43mX\u001B[49m\u001B[43m,\u001B[49m\u001B[43m \u001B[49m\u001B[43my\u001B[49m\u001B[43m,\u001B[49m\u001B[43m \u001B[49m\u001B[38;5;241;43m*\u001B[39;49m\u001B[38;5;241;43m*\u001B[39;49m\u001B[43mparams\u001B[49m\u001B[38;5;241;43m.\u001B[39;49m\u001B[43mget\u001B[49m\u001B[43m(\u001B[49m\u001B[38;5;124;43m\"\u001B[39;49m\u001B[38;5;124;43mfit_transform\u001B[39;49m\u001B[38;5;124;43m\"\u001B[39;49m\u001B[43m,\u001B[49m\u001B[43m \u001B[49m\u001B[43m{\u001B[49m\u001B[43m}\u001B[49m\u001B[43m)\u001B[49m\u001B[43m)\u001B[49m\n\u001B[0;32m   1304\u001B[0m     \u001B[38;5;28;01melse\u001B[39;00m:\n\u001B[0;32m   1305\u001B[0m         res \u001B[38;5;241m=\u001B[39m transformer\u001B[38;5;241m.\u001B[39mfit(X, y, \u001B[38;5;241m*\u001B[39m\u001B[38;5;241m*\u001B[39mparams\u001B[38;5;241m.\u001B[39mget(\u001B[38;5;124m\"\u001B[39m\u001B[38;5;124mfit\u001B[39m\u001B[38;5;124m\"\u001B[39m, {}))\u001B[38;5;241m.\u001B[39mtransform(\n\u001B[0;32m   1306\u001B[0m             X, \u001B[38;5;241m*\u001B[39m\u001B[38;5;241m*\u001B[39mparams\u001B[38;5;241m.\u001B[39mget(\u001B[38;5;124m\"\u001B[39m\u001B[38;5;124mtransform\u001B[39m\u001B[38;5;124m\"\u001B[39m, {})\n\u001B[0;32m   1307\u001B[0m         )\n",
      "File \u001B[1;32m~\\AppData\\Local\\Programs\\Python\\Python312\\Lib\\site-packages\\sklearn\\utils\\_set_output.py:295\u001B[0m, in \u001B[0;36m_wrap_method_output.<locals>.wrapped\u001B[1;34m(self, X, *args, **kwargs)\u001B[0m\n\u001B[0;32m    293\u001B[0m \u001B[38;5;129m@wraps\u001B[39m(f)\n\u001B[0;32m    294\u001B[0m \u001B[38;5;28;01mdef\u001B[39;00m \u001B[38;5;21mwrapped\u001B[39m(\u001B[38;5;28mself\u001B[39m, X, \u001B[38;5;241m*\u001B[39margs, \u001B[38;5;241m*\u001B[39m\u001B[38;5;241m*\u001B[39mkwargs):\n\u001B[1;32m--> 295\u001B[0m     data_to_wrap \u001B[38;5;241m=\u001B[39m \u001B[43mf\u001B[49m\u001B[43m(\u001B[49m\u001B[38;5;28;43mself\u001B[39;49m\u001B[43m,\u001B[49m\u001B[43m \u001B[49m\u001B[43mX\u001B[49m\u001B[43m,\u001B[49m\u001B[43m \u001B[49m\u001B[38;5;241;43m*\u001B[39;49m\u001B[43margs\u001B[49m\u001B[43m,\u001B[49m\u001B[43m \u001B[49m\u001B[38;5;241;43m*\u001B[39;49m\u001B[38;5;241;43m*\u001B[39;49m\u001B[43mkwargs\u001B[49m\u001B[43m)\u001B[49m\n\u001B[0;32m    296\u001B[0m     \u001B[38;5;28;01mif\u001B[39;00m \u001B[38;5;28misinstance\u001B[39m(data_to_wrap, \u001B[38;5;28mtuple\u001B[39m):\n\u001B[0;32m    297\u001B[0m         \u001B[38;5;66;03m# only wrap the first output for cross decomposition\u001B[39;00m\n\u001B[0;32m    298\u001B[0m         return_tuple \u001B[38;5;241m=\u001B[39m (\n\u001B[0;32m    299\u001B[0m             _wrap_data_with_container(method, data_to_wrap[\u001B[38;5;241m0\u001B[39m], X, \u001B[38;5;28mself\u001B[39m),\n\u001B[0;32m    300\u001B[0m             \u001B[38;5;241m*\u001B[39mdata_to_wrap[\u001B[38;5;241m1\u001B[39m:],\n\u001B[0;32m    301\u001B[0m         )\n",
      "File \u001B[1;32m~\\AppData\\Local\\Programs\\Python\\Python312\\Lib\\site-packages\\sklearn\\base.py:1098\u001B[0m, in \u001B[0;36mTransformerMixin.fit_transform\u001B[1;34m(self, X, y, **fit_params)\u001B[0m\n\u001B[0;32m   1083\u001B[0m         warnings\u001B[38;5;241m.\u001B[39mwarn(\n\u001B[0;32m   1084\u001B[0m             (\n\u001B[0;32m   1085\u001B[0m                 \u001B[38;5;124mf\u001B[39m\u001B[38;5;124m\"\u001B[39m\u001B[38;5;124mThis object (\u001B[39m\u001B[38;5;132;01m{\u001B[39;00m\u001B[38;5;28mself\u001B[39m\u001B[38;5;241m.\u001B[39m\u001B[38;5;18m__class__\u001B[39m\u001B[38;5;241m.\u001B[39m\u001B[38;5;18m__name__\u001B[39m\u001B[38;5;132;01m}\u001B[39;00m\u001B[38;5;124m) has a `transform`\u001B[39m\u001B[38;5;124m\"\u001B[39m\n\u001B[1;32m   (...)\u001B[0m\n\u001B[0;32m   1093\u001B[0m             \u001B[38;5;167;01mUserWarning\u001B[39;00m,\n\u001B[0;32m   1094\u001B[0m         )\n\u001B[0;32m   1096\u001B[0m \u001B[38;5;28;01mif\u001B[39;00m y \u001B[38;5;129;01mis\u001B[39;00m \u001B[38;5;28;01mNone\u001B[39;00m:\n\u001B[0;32m   1097\u001B[0m     \u001B[38;5;66;03m# fit method of arity 1 (unsupervised transformation)\u001B[39;00m\n\u001B[1;32m-> 1098\u001B[0m     \u001B[38;5;28;01mreturn\u001B[39;00m \u001B[38;5;28;43mself\u001B[39;49m\u001B[38;5;241;43m.\u001B[39;49m\u001B[43mfit\u001B[49m\u001B[43m(\u001B[49m\u001B[43mX\u001B[49m\u001B[43m,\u001B[49m\u001B[43m \u001B[49m\u001B[38;5;241;43m*\u001B[39;49m\u001B[38;5;241;43m*\u001B[39;49m\u001B[43mfit_params\u001B[49m\u001B[43m)\u001B[49m\u001B[38;5;241;43m.\u001B[39;49m\u001B[43mtransform\u001B[49m\u001B[43m(\u001B[49m\u001B[43mX\u001B[49m\u001B[43m)\u001B[49m\n\u001B[0;32m   1099\u001B[0m \u001B[38;5;28;01melse\u001B[39;00m:\n\u001B[0;32m   1100\u001B[0m     \u001B[38;5;66;03m# fit method of arity 2 (supervised transformation)\u001B[39;00m\n\u001B[0;32m   1101\u001B[0m     \u001B[38;5;28;01mreturn\u001B[39;00m \u001B[38;5;28mself\u001B[39m\u001B[38;5;241m.\u001B[39mfit(X, y, \u001B[38;5;241m*\u001B[39m\u001B[38;5;241m*\u001B[39mfit_params)\u001B[38;5;241m.\u001B[39mtransform(X)\n",
      "File \u001B[1;32m~\\AppData\\Local\\Programs\\Python\\Python312\\Lib\\site-packages\\sklearn\\utils\\_set_output.py:295\u001B[0m, in \u001B[0;36m_wrap_method_output.<locals>.wrapped\u001B[1;34m(self, X, *args, **kwargs)\u001B[0m\n\u001B[0;32m    293\u001B[0m \u001B[38;5;129m@wraps\u001B[39m(f)\n\u001B[0;32m    294\u001B[0m \u001B[38;5;28;01mdef\u001B[39;00m \u001B[38;5;21mwrapped\u001B[39m(\u001B[38;5;28mself\u001B[39m, X, \u001B[38;5;241m*\u001B[39margs, \u001B[38;5;241m*\u001B[39m\u001B[38;5;241m*\u001B[39mkwargs):\n\u001B[1;32m--> 295\u001B[0m     data_to_wrap \u001B[38;5;241m=\u001B[39m \u001B[43mf\u001B[49m\u001B[43m(\u001B[49m\u001B[38;5;28;43mself\u001B[39;49m\u001B[43m,\u001B[49m\u001B[43m \u001B[49m\u001B[43mX\u001B[49m\u001B[43m,\u001B[49m\u001B[43m \u001B[49m\u001B[38;5;241;43m*\u001B[39;49m\u001B[43margs\u001B[49m\u001B[43m,\u001B[49m\u001B[43m \u001B[49m\u001B[38;5;241;43m*\u001B[39;49m\u001B[38;5;241;43m*\u001B[39;49m\u001B[43mkwargs\u001B[49m\u001B[43m)\u001B[49m\n\u001B[0;32m    296\u001B[0m     \u001B[38;5;28;01mif\u001B[39;00m \u001B[38;5;28misinstance\u001B[39m(data_to_wrap, \u001B[38;5;28mtuple\u001B[39m):\n\u001B[0;32m    297\u001B[0m         \u001B[38;5;66;03m# only wrap the first output for cross decomposition\u001B[39;00m\n\u001B[0;32m    298\u001B[0m         return_tuple \u001B[38;5;241m=\u001B[39m (\n\u001B[0;32m    299\u001B[0m             _wrap_data_with_container(method, data_to_wrap[\u001B[38;5;241m0\u001B[39m], X, \u001B[38;5;28mself\u001B[39m),\n\u001B[0;32m    300\u001B[0m             \u001B[38;5;241m*\u001B[39mdata_to_wrap[\u001B[38;5;241m1\u001B[39m:],\n\u001B[0;32m    301\u001B[0m         )\n",
      "\u001B[1;31mTypeError\u001B[0m: BaseTransformer.transform() takes 1 positional argument but 2 were given"
     ]
    }
   ],
   "source": [
    "movies_df = pipline.fit_transform(movies_df)"
   ],
   "metadata": {
    "collapsed": false,
    "ExecuteTime": {
     "end_time": "2024-04-08T20:35:01.053511Z",
     "start_time": "2024-04-08T20:34:59.747970Z"
    }
   },
   "id": "be6c1cd4531f65e8",
   "execution_count": 12
  },
  {
   "cell_type": "markdown",
   "source": [
    "## Exploratory Data Analysis"
   ],
   "metadata": {
    "collapsed": false
   },
   "id": "8812eea4fe23d81"
  },
  {
   "cell_type": "code",
   "outputs": [],
   "source": [
    "movies_df.info()"
   ],
   "metadata": {
    "collapsed": false,
    "ExecuteTime": {
     "start_time": "2024-04-08T20:35:01.055697Z"
    }
   },
   "id": "e063ef09fbbfa3c6",
   "execution_count": null
  },
  {
   "cell_type": "code",
   "outputs": [],
   "source": [
    "movies_df.describe()"
   ],
   "metadata": {
    "collapsed": false,
    "ExecuteTime": {
     "start_time": "2024-04-08T20:35:01.058073Z"
    }
   },
   "id": "b5007901a13043a5",
   "execution_count": null
  },
  {
   "cell_type": "code",
   "outputs": [],
   "source": [
    "group_year_sum = movies_df.groupby(movies_df.release_date.dt.year)[['revenue(mil)', 'budget(mil)']].sum().reset_index()\n",
    "group_year_mean = movies_df.groupby(movies_df.release_date.dt.year)[['revenue(mil)', 'budget(mil)']].mean().reset_index()"
   ],
   "metadata": {
    "collapsed": false,
    "ExecuteTime": {
     "start_time": "2024-04-08T20:35:01.060360Z"
    }
   },
   "id": "6f25f030ab11c194",
   "execution_count": null
  },
  {
   "cell_type": "code",
   "outputs": [],
   "source": [
    "group_year_mean"
   ],
   "metadata": {
    "collapsed": false
   },
   "id": "57be88c0a1303eae",
   "execution_count": null
  },
  {
   "cell_type": "code",
   "outputs": [],
   "source": [
    "fig, (ax1, ax2) = plt.subplots(2, figsize=(10, 10), sharex=True)\n",
    "\n",
    "plt.style.use('ggplot')\n",
    "fig.supxlabel('Year', fontsize=14)\n",
    "ax1.set_title('Total Revenue and Budget per year', fontsize=16)\n",
    "\n",
    "group_year_sum.loc[group_year_sum['release_date'] >= 2010].plot(x='release_date', kind='bar', ax=ax1)\n",
    "ax2.set_title('Average Revenue and Budget per year', fontsize=16)\n",
    "\n",
    "group_year_mean.loc[group_year_mean['release_date'] >= 2010].plot(x='release_date', kind='bar', ax=ax2)\n",
    "plt.show()"
   ],
   "metadata": {
    "collapsed": false,
    "ExecuteTime": {
     "start_time": "2024-04-08T20:35:01.064692Z"
    }
   },
   "id": "2d1dde6b5175e3f1",
   "execution_count": null
  },
  {
   "cell_type": "markdown",
   "source": [
    "### Total Revenue and Budget per Year\n",
    "\n",
    "- This plot displays the total revenue and budget for movies released each year, starting from the year 2010.\n",
    "- The x-axis represents the years, while the y-axis represents the total revenue and budget in millions of dollars.\n",
    "- Each bar represents a year, with two bars side by side for each year, one representing the total revenue and the other representing the total budget.\n",
    "- This plot provides an overview of the overall financial performance of movies released each year, allowing us to identify trends and fluctuations in revenue and budget over time.\n",
    "\n",
    "### Average Revenue and Budget per Year\n",
    "\n",
    "- This plot illustrates the average revenue and budget for movies released each year, starting from the year 2010.\n",
    "- Similar to the previous plot, the x-axis represents the years, while the y-axis represents the average revenue and budget in millions of dollars.\n",
    "- Each bar represents a year, with two bars side by side for each year, one representing the average revenue and the other representing the average budget.\n",
    "- Unlike the previous plot, which shows the total financial figures, this plot focuses on the average financial performance per movie released each year.\n",
    "- By examining the average revenue and budget trends over time, we can gain insights into the profitability and investment patterns in the movie industry.\n"
   ],
   "metadata": {
    "collapsed": false
   },
   "id": "6a159f408b7cfe99"
  },
  {
   "cell_type": "code",
   "outputs": [],
   "source": [
    "group_month_sum = movies_df.groupby('month', observed=False)[['revenue(mil)', 'budget(mil)']].sum().reset_index()\n",
    "group_month_mean = movies_df.groupby('month', observed=False)[['revenue(mil)', 'budget(mil)']].mean().reset_index()"
   ],
   "metadata": {
    "collapsed": false,
    "ExecuteTime": {
     "start_time": "2024-04-08T20:35:01.067019Z"
    }
   },
   "id": "3e309dfd0fe300b",
   "execution_count": null
  },
  {
   "cell_type": "code",
   "outputs": [],
   "source": [
    "group_month_mean"
   ],
   "metadata": {
    "collapsed": false
   },
   "id": "c670faffd087b016",
   "execution_count": null
  },
  {
   "cell_type": "code",
   "outputs": [],
   "source": [
    "fig, (ax1, ax2) = plt.subplots(2, figsize=(12, 10), sharex=True)\n",
    "\n",
    "plt.style.use('ggplot')\n",
    "fig.supxlabel('Year', fontsize=14)\n",
    "ax1.set_title('Total Revenue and Budget per Month (mil)', fontsize=16)\n",
    "\n",
    "group_month_sum.plot(x='month', kind='bar', ax=ax1)\n",
    "ax2.set_title('Average Revenue and Budget per Month (mil)', fontsize=16)\n",
    "\n",
    "group_month_mean.plot(x='month', kind='bar', ax=ax2)\n",
    "plt.tight_layout()\n",
    "plt.show()"
   ],
   "metadata": {
    "collapsed": false,
    "ExecuteTime": {
     "start_time": "2024-04-08T20:35:01.071421Z"
    }
   },
   "id": "de1f83f4aff8969a",
   "execution_count": null
  },
  {
   "cell_type": "markdown",
   "source": [
    "### Total Revenue and Budget per Month\n",
    "\n",
    "- This plot displays the total revenue and budget for movies released each month.\n",
    "- The x-axis represents the months of the year, while the y-axis represents the total revenue and budget in millions of dollars.\n",
    "- Each bar represents a month, with two bars side by side for each month, one representing the total revenue and the other representing the total budget.\n",
    "- This plot provides an overview of the financial performance of movies released each month, allowing us to identify patterns and trends in revenue and budget allocation throughout the year.\n",
    "\n",
    "### Average Revenue and Budget per Month\n",
    "\n",
    "- This plot illustrates the average revenue and budget for movies released each month.\n",
    "- Similar to the previous plot, the x-axis represents the months of the year, while the y-axis represents the average revenue and budget in millions of dollars.\n",
    "- Each bar represents a month, with two bars side by side for each month, one representing the average revenue and the other representing the average budget.\n",
    "- Unlike the previous plot, which shows the total financial figures, this plot focuses on the average financial performance per movie released each month.\n",
    "- By examining the average revenue and budget trends over each month, we can gain insights into the seasonality and periodic patterns in movie revenues and budget allocations.\n",
    "\n",
    "### Analysis of Seasonal Trends in Movie Releases\n",
    "\n",
    "- The provided plot reveals interesting insights into the seasonal patterns of movie releases.\n",
    "- There are noticeable spikes in movie releases around May, June, and July, which can be attributed to the abundance of holidays during the summer months.\n",
    "- Another significant spike occurs around November and December, coinciding with the Christmas and year-end holidays.\n",
    "- This observation suggests that production companies strategically time the release of movies to coincide with seasonal changes and holiday periods, aiming to capitalize on increased leisure time and consumer spending during these periods.\n",
    "- By aligning movie releases with holidays and seasonal changes, production companies can maximize audience engagement and box office revenue.\n",
    "- The plot below effectively illustrates the average release of movies per month across multiple years, providing valuable insights into the temporal distribution of movie releases and underlying industry strategies.\n"
   ],
   "metadata": {
    "collapsed": false
   },
   "id": "a9619976c726f39d"
  },
  {
   "cell_type": "code",
   "outputs": [],
   "source": [
    "movies_df['month'] = movies_df['release_date'].dt.month\n",
    "movies_df['year'] = movies_df['release_date'].dt.year\n",
    "\n",
    "\n",
    "monthly_release_avg = movies_df.groupby(['year','month']).size().groupby(['month']).mean()\n",
    "\n",
    "months = ['January', 'February', 'March', 'April', 'May', 'June', 'July', 'August', 'September', 'October', 'November', 'December']\n",
    "\n",
    "plt.figure(figsize=(10, 6))\n",
    "plt.plot(months, monthly_release_avg, marker='o', color='skyblue', linestyle='-')\n",
    "plt.title('Average Movie Releases per Month Across Years')\n",
    "plt.xlabel('Month')\n",
    "plt.ylabel('Average Number of Releases')\n",
    "plt.xticks(rotation=45, ha='right')\n",
    "plt.tight_layout()\n",
    "plt.show()"
   ],
   "metadata": {
    "collapsed": false,
    "ExecuteTime": {
     "start_time": "2024-04-08T20:35:01.072536Z"
    }
   },
   "id": "17d5f063d0f85bc",
   "execution_count": null
  },
  {
   "cell_type": "code",
   "outputs": [],
   "source": [
    "sns.heatmap(movies_df[['revenue(mil)', 'budget(mil)','vote_average','popularity', 'vote_count']].corr(), annot=True)"
   ],
   "metadata": {
    "collapsed": false
   },
   "id": "36c884707b08fb23",
   "execution_count": null
  },
  {
   "cell_type": "markdown",
   "source": [
    "### Correlation Heatmap\n",
    "\n",
    "- This heatmap illustrates the correlation matrix between various numerical features in the dataset.\n",
    "- The heatmap color-codes the correlation coefficients, with warmer colors indicating stronger positive correlations and cooler colors indicating stronger negative correlations.\n",
    "- The annotations on the heatmap represent the correlation coefficients, providing quantitative insights into the strength and direction of relationships between pairs of features.\n",
    "- By examining the correlations between features such as revenue, budget, vote average, popularity, and vote count, we can identify potential relationships and dependencies within the dataset.\n",
    "- Understanding these correlations can help inform further analysis and modeling decisions, such as feature selection and model interpretation.\n",
    "- It shows a strong relationship between our target variable (revenue) with vote count and budget, although budget is expected vote count is expected to show a relationship, \n",
    "- it also reveals that the popularity of a movie is linked to its revenue or budget"
   ],
   "metadata": {
    "collapsed": false
   },
   "id": "c6f960956ec13599"
  },
  {
   "cell_type": "code",
   "outputs": [],
   "source": [
    "popularity_over_time = movies_df.groupby('year')['popularity'].mean()\n",
    "\n",
    "plt.figure(figsize=(12, 6))\n",
    "plt.plot(popularity_over_time.index, popularity_over_time.values, color='skyblue')\n",
    "plt.title('Popularity of Movies Over Time')\n",
    "plt.xlabel('Release Date')\n",
    "plt.ylabel('Popularity')\n",
    "plt.xticks(rotation=45, ha='right')\n",
    "plt.tight_layout()\n",
    "plt.show()\n"
   ],
   "metadata": {
    "collapsed": false
   },
   "id": "37a1fb26422db091",
   "execution_count": null
  },
  {
   "cell_type": "markdown",
   "source": [
    "### Analysis of Popularity Trend Over Time\n",
    "\n",
    "- The plotted data illustrates the average popularity of movies over time, aggregated on a yearly basis.\n",
    "- Upon examination, there is a noticeable spike in movie popularity around the year 2024.\n",
    "- This spike suggests a significant increase in audience interest and engagement with movies released during that period.\n",
    "- Possible factors contributing to this spike could include the release of highly anticipated movies, breakthrough performances, or innovative marketing strategies.\n",
    "- The observed spike in movie popularity around 2024 may reflect shifting audience preferences, industry trends, or cultural influences during that time.\n",
    "- Further analysis, including examining specific movie releases and external events occurring around 2024, could provide additional insights into the drivers behind this popularity surge.\n",
    "- Overall, this visualization offers valuable insights into the temporal dynamics of movie popularity, highlighting notable trends and fluctuations over time.\n"
   ],
   "metadata": {
    "collapsed": false
   },
   "id": "282113568b590728"
  },
  {
   "cell_type": "code",
   "outputs": [],
   "source": [
    "plt.figure(figsize=(10, 6))\n",
    "sns.histplot(movies_df['runtime(min)'], bins=15, color='skyblue', edgecolor='black', kde=True)\n",
    "plt.title('Distribution of Movie Runtimes')\n",
    "plt.xlabel('Runtime (minutes)')\n",
    "plt.ylabel('Frequency')\n",
    "plt.grid(axis='y', alpha=0.5)\n",
    "plt.tight_layout()\n",
    "plt.show()"
   ],
   "metadata": {
    "collapsed": false,
    "ExecuteTime": {
     "start_time": "2024-04-08T20:35:01.078446Z"
    }
   },
   "id": "f8b6849314ef9a8",
   "execution_count": null
  },
  {
   "cell_type": "markdown",
   "source": [
    "### Analysis of Movie Runtime Distribution\n",
    "\n",
    "- The histogram visualizes the distribution of movie runtimes, measured in minutes.\n",
    "- Upon examination, the distribution appears to be unimodal, with a peak in frequency observed between 100 and 120 minutes.\n",
    "- This indicates that a significant proportion of movies in the dataset have runtime durations falling within this range.\n",
    "- Conversely, there is a notable decrease in frequency observed for movies with runtime durations exceeding 160 minutes, suggesting fewer movies have longer durations beyond this threshold.\n",
    "- The histogram's shape and peaks provide insights into the typical runtime preferences within the dataset, with most movies falling within a certain duration range.\n",
    "- Understanding the distribution of movie runtimes can inform various aspects of movie production and consumption, such as scheduling, audience preferences, and content pacing.\n",
    "- Further analysis, such as exploring runtime trends across genres or release years, could provide additional insights into factors influencing movie runtime distribution.\n"
   ],
   "metadata": {
    "collapsed": false
   },
   "id": "51796e11c0ba3a03"
  },
  {
   "cell_type": "code",
   "outputs": [],
   "source": [
    "genres = [genre for sublist in movies_df['genre'] for genre in sublist]\n",
    "\n",
    "genre_counts = pd.Series(genres).value_counts()\n",
    "\n",
    "plt.figure(figsize=(10, 6))\n",
    "sns.barplot(x=genre_counts.values, y=genre_counts.index, palette='viridis', hue=genre_counts.index, legend=False)\n",
    "plt.title('Distribution of Movie Genres')\n",
    "plt.xlabel('Frequency')\n",
    "plt.ylabel('Genre')\n",
    "plt.tight_layout()\n",
    "plt.show()\n"
   ],
   "metadata": {
    "collapsed": false,
    "ExecuteTime": {
     "start_time": "2024-04-08T20:35:01.080702Z"
    }
   },
   "id": "be9b2331111fe76e",
   "execution_count": null
  },
  {
   "cell_type": "markdown",
   "source": [
    "### Analysis of Movie Genre Distribution\n",
    "\n",
    "- The bar plot illustrates the distribution of movie genres based on their frequency of occurrence in the dataset.\n",
    "- Upon inspection, the most prevalent genre is 'Action', with the highest frequency of occurrence.\n",
    "- Following 'Action', the next most common genres are 'Adventure' and 'Drama', which also exhibit relatively high frequencies.\n",
    "- 'Comedy' is another prevalent genre, ranking among the top genres in terms of frequency.\n",
    "- In contrast, 'Western' emerges as the least common genre, with the lowest frequency of occurrence in the dataset.\n",
    "- 'Music' and 'History' genres also have relatively low frequencies compared to other genres.\n",
    "- Understanding the distribution of movie genres can provide insights into audience preferences, industry trends, and market demand for different types of content.\n",
    "- These insights can inform various aspects of movie production, marketing, and distribution strategies tailored to specific genre preferences and audience segments.\n",
    "- with access to a more detailed database that shows the countries of release, one can understand the distribution of genres across multiple countries"
   ],
   "metadata": {
    "collapsed": false
   },
   "id": "f704a8859ee421c4"
  },
  {
   "cell_type": "code",
   "outputs": [],
   "source": [
    "genres = [genre for sublist in movies_df['genre'] for genre in sublist]\n",
    "\n",
    "data = {'Genre': genres, 'Revenue (mil)': movies_df['revenue(mil)'].repeat(movies_df['genre'].str.len())}\n",
    "genre_revenue_df = pd.DataFrame(data).sort_values(by='Revenue (mil)', ascending=False)\n",
    "\n",
    "plt.figure(figsize=(12, 6))\n",
    "sns.set_style('darkgrid')\n",
    "sns.barplot(data=genre_revenue_df, x='Genre', y='Revenue (mil)', palette='viridis', hue='Genre', legend=False)\n",
    "plt.title('Genre vs. Revenue')\n",
    "plt.xlabel('Genre')\n",
    "plt.ylabel('Revenue (millions)')\n",
    "plt.xticks(rotation=45, ha='right')\n",
    "plt.tight_layout()\n",
    "plt.show()"
   ],
   "metadata": {
    "collapsed": false
   },
   "id": "91b3b6f57163a872",
   "execution_count": null
  },
  {
   "cell_type": "markdown",
   "source": [
    "### Analysis of Genre vs. Revenue\n",
    "\n",
    "- The bar plot compares different movie genres based on their corresponding revenue generated, represented in millions of dollars.\n",
    "- Upon inspection, 'Adventure' emerges as the genre with the highest revenue, indicating that movies categorized under this genre tend to generate significant financial returns.\n",
    "- Following 'Adventure', 'Sci-Fi' and 'Family' genres also exhibit relatively high revenue figures, suggesting their popularity and profitability in the movie industry.\n",
    "- 'Animation' and 'Fantasy' genres closely follow, further underscoring the commercial success of movies within these genres.\n",
    "- Interestingly, although 'Action' was identified as one of the most prevalent genres, it does not rank highest in terms of revenue, highlighting a potential discrepancy between popularity and financial performance.\n",
    "- This analysis sheds light on the varying revenue potentials associated with different movie genres, providing insights into audience preferences, market demand, and commercial viability within the entertainment industry.\n",
    "- Understanding the relationship between genre and revenue can inform strategic decisions related to content production, marketing strategies, and investment opportunities in the movie sector.\n"
   ],
   "metadata": {
    "collapsed": false
   },
   "id": "cd665e2a49681988"
  },
  {
   "cell_type": "code",
   "outputs": [],
   "source": [
    "production_companies = [genre for sublist in movies_df['production_companies'] for genre in sublist]\n",
    "\n",
    "production_companies_counts = pd.Series(production_companies).value_counts()\n",
    "top_10_pC = production_companies_counts.sort_values(ascending=False).head(10)\n",
    "\n",
    "plt.figure(figsize=(10, 6))\n",
    "sns.barplot(x=top_10_pC.values, y=top_10_pC.index, palette='viridis', hue=top_10_pC.index, legend=False)\n",
    "plt.title('Top 10 Production Companies by movies produced')\n",
    "plt.xlabel('NO of Movies Produced')\n",
    "plt.ylabel('Production Companies')\n",
    "plt.tight_layout()\n",
    "plt.show()"
   ],
   "metadata": {
    "collapsed": false
   },
   "id": "f2a4e649366d0c8d",
   "execution_count": null
  },
  {
   "cell_type": "markdown",
   "source": [
    "### Analysis of Top 10 Production Companies by Movies Produced\n",
    "\n",
    "- The bar plot displays the top 10 production companies ranked by the number of movies they have produced.\n",
    "- Upon examination, 'Warner Bros' emerges as the leading production company, with the highest number of movies produced among the top 10.\n",
    "- Following 'Warner Bros', other prominent production companies include 'Columbia Pictures', 'Universal Pictures', 'Paramount Pictures', and '20th Century Fox', which also have significant numbers of movies in their portfolios.\n",
    "- Notably, 'Walt Disney Pictures' also ranks among the top production companies, highlighting its substantial contribution to the movie industry.\n",
    "- The ranking of production companies based on the number of movies produced provides insights into their production output and market influence within the industry.\n",
    "- Understanding the dominance of certain production companies can inform strategic partnerships, distribution agreements, and investment decisions within the movie industry landscape.\n"
   ],
   "metadata": {
    "collapsed": false
   },
   "id": "841f4f64660068b8"
  },
  {
   "cell_type": "code",
   "outputs": [],
   "source": [
    "production_companies = [company for sublist in movies_df['production_companies'] for company in sublist]\n",
    "\n",
    "data = {'Production Company': production_companies, 'Revenue (mil)': movies_df['revenue(mil)'].repeat(movies_df['production_companies'].str.len()), 'Budget (mil)': movies_df['budget(mil)'].repeat(movies_df['production_companies'].str.len()), 'title': movies_df['title'].repeat(movies_df['production_companies'].str.len())}\n",
    "production_df = pd.DataFrame(data)\n",
    "\n",
    "production_agg = production_df.groupby('Production Company').agg({'Revenue (mil)': 'sum', 'Budget (mil)': 'sum', 'title':'count'}).reset_index().rename(columns={'title':'total movies'})\n",
    "top_10_pC_by_movies = production_agg.sort_values(by='total movies', ascending=False).head(10)\n",
    "\n",
    "plt.figure(figsize=(12, 6))\n",
    "\n",
    "\n",
    "plt.bar(top_10_pC_by_movies['Production Company'], top_10_pC_by_movies['Revenue (mil)'], color='skyblue', label='Revenue')\n",
    "plt.bar(top_10_pC_by_movies['Production Company'], top_10_pC_by_movies['Budget (mil)'], color='orange', label='Budget')\n",
    "\n",
    "plt.title('Revenue and Budget of the top Production Company by movies released')\n",
    "plt.xlabel('Production Company')\n",
    "plt.ylabel('Amount (millions)')\n",
    "plt.xticks(rotation=45, ha='right')\n",
    "plt.legend()\n",
    "plt.tight_layout()\n",
    "plt.show()\n"
   ],
   "metadata": {
    "collapsed": false
   },
   "id": "103ae55573f5e0e4",
   "execution_count": null
  },
  {
   "cell_type": "markdown",
   "source": [
    "### Analysis of Revenue and Budget of Top Production Companies by Movies Released\n",
    "\n",
    "- The grouped bar plot compares the revenue and budget of the top production companies based on the number of movies they have released.\n",
    "- The top production companies are determined by the total count of movies they have produced, highlighting their prominence in the industry.\n",
    "- Each production company is represented by two bars: one indicating the total revenue generated by their movies, and the other representing the total budget allocated for their movie productions.\n",
    "- Upon inspection, it is evident that certain top production companies, such as 'Warner Bros', 'Columbia Pictures', and 'Universal Pictures', exhibit substantial differences between their total revenue and budget figures.\n",
    "- 'Warner Bros' stands out as the top production company in terms of both revenue and budget, indicating its significant financial success and investment capacity in the movie industry.\n",
    "- This analysis offers insights into the financial performance and investment strategies of top production companies, providing valuable information for stakeholders in the movie production and distribution ecosystem.\n",
    "- Understanding the revenue and budget dynamics of production companies can inform strategic decisions related to partnerships, investment opportunities, and resource allocation within the entertainment industry.\n"
   ],
   "metadata": {
    "collapsed": false
   },
   "id": "c39cdeca35f8f73e"
  },
  {
   "cell_type": "markdown",
   "source": [
    "## Conclusion and Insights:\n",
    "\n",
    "Through the exploratory data analysis (EDA) conducted on the movie dataset, several key insights have been unearthed, shedding light on various aspects of the movie industry. Here's a summary of the findings:\n",
    "\n",
    "- **Seasonal Trends:** Analysis of movie release dates revealed distinct spikes in certain months, correlating with holidays and seasonal changes. This suggests that production companies strategically time their movie releases to capitalize on heightened audience engagement during these periods.\n",
    "\n",
    "- **Popularity Over Time:** A notable spike in movie popularity around 2024 was observed, indicating a significant increase in audience interest during that period. Further investigation into external factors influencing this spike could provide valuable insights.\n",
    "\n",
    "- **Movie Runtimes:** The distribution of movie runtimes highlighted a peak between 100 and 120 minutes, reflecting audience preferences for movies within this duration range.\n",
    "\n",
    "- **Genre Preferences:** Analysis of movie genres revealed 'Action' as the most prevalent genre, followed by 'Adventure' and 'Drama'. However, the revenue analysis showed that 'Adventure' movies tend to generate the highest revenue, indicating a potential discrepancy between popularity and financial performance.\n",
    "\n",
    "- **Production Companies:** Top production companies such as 'Warner Bros', 'Columbia Pictures', and 'Universal Pictures' were identified based on the number of movies produced. Further analysis revealed their revenue and budget dynamics, offering insights into their financial performance and investment strategies."
   ],
   "metadata": {
    "collapsed": false
   },
   "id": "455db6e73544c34e"
  },
  {
   "cell_type": "markdown",
   "source": [
    "\n",
    "## Future Direction:\n",
    "\n",
    "Building upon these insights, the next step would involve leveraging machine learning techniques to predict movie revenue. By analyzing various features such as genre, production budget, release date, and more, predictive models can be developed to forecast revenue potential for upcoming movies.\n",
    "\n",
    "This predictive capability would not only assist production companies in making informed decisions regarding resource allocation and investment but also provide valuable insights into audience preferences and market trends.\n",
    "\n",
    "In conclusion, the combination of exploratory data analysis and machine learning holds immense potential for empowering stakeholders in the movie industry to navigate the complex landscape of movie production and distribution effectively."
   ],
   "metadata": {
    "collapsed": false
   },
   "id": "b92c11d7985dac7"
  },
  {
   "cell_type": "code",
   "outputs": [],
   "source": [
    "movies_df.to_csv('../data/movies.csv', index=False)"
   ],
   "metadata": {
    "collapsed": false
   },
   "id": "e9a7932742d8be17",
   "execution_count": null
  }
 ],
 "metadata": {
  "kernelspec": {
   "display_name": "Python 3",
   "language": "python",
   "name": "python3"
  },
  "language_info": {
   "codemirror_mode": {
    "name": "ipython",
    "version": 2
   },
   "file_extension": ".py",
   "mimetype": "text/x-python",
   "name": "python",
   "nbconvert_exporter": "python",
   "pygments_lexer": "ipython2",
   "version": "2.7.6"
  }
 },
 "nbformat": 4,
 "nbformat_minor": 5
}
